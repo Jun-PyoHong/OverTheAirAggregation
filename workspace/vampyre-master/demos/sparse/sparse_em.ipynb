{
 "cells": [
  {
   "cell_type": "markdown",
   "metadata": {},
   "source": [
    "# Sparse Linear Inverse with EM Learning\n",
    "\n",
    "In the [sparse linear inverse demo](./sparse_lin_inverse.ipynb), we saw how to set up a solve a simple sparse linear inverse problem using the `vamp` method in the `vampyre` package.  Specifically, we solved for a vector $x$ from linear measurements of the form $y=Ax+w$.  Critical in demo was that the `vamp` method had to be supplied a description of the statistics on the components on $x$ and the noise variance $w$.  In many practical cases though, these are not known.  In the demo, we show how to simultaneously learn $x$ and the distribution on $x$ with EM learning.\n",
    "\n",
    "The example here is taken from the following paper which introduced the combination of VAMP with EM learning:\n",
    "> Fletcher, Alyson K., and Philip Schniter. [Learning and free energies for vector approximate message passing,](http://ieeexplore.ieee.org/abstract/document/7952957/) Proc. IEEE Acoustics, Speech and Signal Processing (ICASSP), 2017."
   ]
  },
  {
   "cell_type": "markdown",
   "metadata": {},
   "source": [
    "## Importing the Package \n",
    "\n",
    "\n",
    "First, as in the [sparse linear inverse demo](./sparse_lin_inverse.ipynb) we load `vampyre` and other packages."
   ]
  },
  {
   "cell_type": "code",
   "execution_count": 1,
   "metadata": {},
   "outputs": [],
   "source": [
    "# Import vampyre\n",
    "import os\n",
    "import sys\n",
    "vp_path = os.path.abspath('../../')\n",
    "if not vp_path in sys.path:\n",
    "    sys.path.append(vp_path)\n",
    "import vampyre as vp\n",
    "\n",
    "# Import the other packages\n",
    "import numpy as np\n",
    "import matplotlib\n",
    "import matplotlib.pyplot as plt\n",
    "%matplotlib inline"
   ]
  },
  {
   "cell_type": "markdown",
   "metadata": {},
   "source": [
    "## Generating Synthetic Data\n",
    "\n",
    "Next, we will generate the synthetic sparse data.  Recall, that in the sparse linear inverse problem, we want to estimate a vector $z_0$ from measurements\n",
    "$$\n",
    "    y = Az_0 + w,\n",
    "$$\n",
    "for some known linear transform $A$.  The vector $w$ represents noise.\n",
    "\n",
    "The sparse vector $z_0$ is described probabilistically.  We will use a slightly different model than in the sparse linear inverse demo, and describe the sparse vector $z_0$ as a [Gaussian mixture model](https://en.wikipedia.org/wiki/Mixture_model): Each component of the vector $z_0$ is distributed as being randomly one of two components:\n",
    "$$\n",
    "    z_{0j} \\sim \\begin{cases} \n",
    "        N(0,\\sigma^2_H) & \\mbox{with prob } P_H, \\\\\n",
    "        N(0,\\sigma^2_L) & \\mbox{with prob } P_L, \n",
    "    \\end{cases}\n",
    "$$\n",
    "where $\\sigma^2_H$ represents a *high* variance and $\\sigma^2_L$ a *low* variance.  Thus, with some probability $p_L$, the component is small (close to zero) and probability $p_H$ it is large.  "
   ]
  },
  {
   "cell_type": "code",
   "execution_count": 2,
   "metadata": {},
   "outputs": [],
   "source": [
    "# Dimensions\n",
    "nz0 = 1000\n",
    "nz1 = 500\n",
    "ncol = 10\n",
    "zshape0 = (nz0,ncol)\n",
    "zshape1 = (nz1,ncol)\n",
    "\n",
    "# Parameters for the two components\n",
    "varc_lo = 1e-4       # variance of the low variance component\n",
    "varc_hi = 1          # variance of the high variance component\n",
    "prob_hi = 0.1        # probability of the high variance component\n",
    "prob_lo = 1-prob_hi\n",
    "meanc = np.array([0,0])\n",
    "probc = np.array([prob_lo, prob_hi])    \n",
    "varc = np.array([varc_lo, varc_hi])\n",
    "nc = len(probc)    \n",
    "\n",
    "# Generate random data following the GMM model\n",
    "zlen = np.prod(zshape0)\n",
    "ind = np.random.choice(nc,zlen,p=probc)\n",
    "u = np.random.randn(zlen)\n",
    "z0 = u*np.sqrt(varc[ind]) + meanc[ind]\n",
    "z0 = z0.reshape(zshape0)\n",
    "    "
   ]
  },
  {
   "cell_type": "markdown",
   "metadata": {},
   "source": [
    "Next, we generate a random matrix.  Before, we generated the random matrix with Gaussian iid entries.  In this example, to make the problem more challenging, we will use a more ill-conditioned random matrix.  The method `rand_rot_invariant` creates a random matrix with a specific condition number."
   ]
  },
  {
   "cell_type": "code",
   "execution_count": 3,
   "metadata": {},
   "outputs": [],
   "source": [
    "cond_num = 100    # Condition number\n",
    "A = vp.trans.rand_rot_invariant_mat(nz1,nz0,cond_num=cond_num)\n",
    "z1 = A.dot(z0)"
   ]
  },
  {
   "cell_type": "markdown",
   "metadata": {},
   "source": [
    "Finally, we add noise at the desired SNR"
   ]
  },
  {
   "cell_type": "code",
   "execution_count": 4,
   "metadata": {},
   "outputs": [],
   "source": [
    "snr = 40    # SNR in dB\n",
    "yvar = np.mean(np.abs(z1)**2)\n",
    "wvar = yvar*np.power(10, -0.1*snr)\n",
    "y = z1 + np.random.normal(0,np.sqrt(wvar), zshape1)"
   ]
  },
  {
   "cell_type": "markdown",
   "metadata": {},
   "source": [
    "## Set up the solvers \n",
    "\n",
    "As in the sparse inverse demo, the VAMP estimator requires that we specify two probability distributions:\n",
    "* Prior:  $p(z_0|\\theta_0)$;\n",
    "* Likelihood:  $p(y|z_0,\\theta_1)$.\n",
    "In this case, both densities depend on *parameters*: $\\theta_0$ and $\\theta_1$.  For the prior, the parameters $\\theta_0$ represent the parameters of the components `(probc,meanc,varc)`.  For the likelihood, the unknown parameter $\\theta_1$ is the output variance `wvar`.\n",
    "\n",
    "EM estimation is a method that allows to learn the values of the parameters $\\theta_0$ and $\\theta_1$ while also estimating the vector $z_0$."
   ]
  },
  {
   "cell_type": "markdown",
   "metadata": {},
   "source": [
    "EM estimation is an iterative technique and requires that we specify initial estimates for the unknown parameters: `wvar,probc,meanc,varc`.  We will use the initialization in the paper above."
   ]
  },
  {
   "cell_type": "code",
   "execution_count": 5,
   "metadata": {},
   "outputs": [],
   "source": [
    "# Initial estimate for the noise\n",
    "wvar_init = np.mean(np.abs(y)**2)\n",
    "\n",
    "# Intiial estimates for the component means, variances and probabilities\n",
    "meanc_init = np.array([0,0])\n",
    "prob_hi_init = np.minimum(nz1/nz0/2,0.95)\n",
    "prob_lo_init = 1-prob_hi_init\n",
    "var_hi_init = yvar/np.mean(np.abs(A)**2)/nz0/prob_hi_init\n",
    "var_lo_init = 1e-4   \n",
    "probc_init = np.array([prob_lo_init, prob_hi_init])\n",
    "varc_init = np.array([var_lo_init, var_hi_init])"
   ]
  },
  {
   "cell_type": "markdown",
   "metadata": {},
   "source": [
    "To evaluate the EM method, we will compare it against an *oracle* that knows the true density.  We thus create two estimators for the prior:  one for the oracle that is set to the true GMM parameters with tuning disabled (`tune_gmm=False`); and one for the EM estimator where the parameters are set to the initial estimators and tuning enabled (`tune_gmm=True`)."
   ]
  },
  {
   "cell_type": "code",
   "execution_count": 6,
   "metadata": {},
   "outputs": [],
   "source": [
    "# Estimator with EM, initialized to the above values\n",
    "est_in_em = vp.estim.GMMEst(shape=zshape0,\\\n",
    "    zvarmin=1e-6,tune_gmm=True,probc=probc_init,meanc=meanc_init, varc=varc_init,name='GMM input')\n",
    "\n",
    "# No auto-tuning.  Set estimators with the true values\n",
    "est_in_oracle = vp.estim.GMMEst(shape=zshape0, probc=probc, meanc=meanc, varc=varc, tune_gmm=False,name='GMM input')"
   ]
  },
  {
   "cell_type": "markdown",
   "metadata": {},
   "source": [
    "We also create two estimators for the likelihood $p(y|z1,wvar)$.  For the oracle estimator, the parameter `wvar` is set to its true value; for the EM estimator it is set to its initial estimate `wvar_init`."
   ]
  },
  {
   "cell_type": "code",
   "execution_count": 7,
   "metadata": {},
   "outputs": [],
   "source": [
    "Aop = vp.trans.MatrixLT(A,zshape0)\n",
    "b = np.zeros(zshape1)\n",
    "map_est = False\n",
    "est_out_em     = vp.estim.LinEst(Aop,y,wvar=wvar_init,map_est=map_est,tune_wvar=True, name='Linear+AWGN')\n",
    "est_out_oracle = vp.estim.LinEst(Aop,y,wvar=wvar,map_est=map_est,tune_wvar=False, name='Linear+AWGN')"
   ]
  },
  {
   "cell_type": "markdown",
   "metadata": {},
   "source": [
    "## Running the solvers for the oracle and EM case"
   ]
  },
  {
   "cell_type": "markdown",
   "metadata": {},
   "source": [
    "We first run the solver for the oracle case and measure the MSE per iteration."
   ]
  },
  {
   "cell_type": "code",
   "execution_count": 8,
   "metadata": {},
   "outputs": [
    {
     "name": "stdout",
     "output_type": "stream",
     "text": [
      "Final MSE (oracle) = -28.970348 dB\n"
     ]
    }
   ],
   "source": [
    "# Create the message handler\n",
    "msg_hdl = vp.estim.MsgHdlSimp(map_est=map_est, shape=zshape0)\n",
    "\n",
    "# Create the solver\n",
    "nit = 40\n",
    "solver = vp.solver.Vamp(est_in_oracle, est_out_oracle,msg_hdl,hist_list=['zhat'],nit=nit) \n",
    "\n",
    "# Run the solver\n",
    "solver.solve()\n",
    "\n",
    "# Get the estimation history\n",
    "zhat_hist = solver.hist_dict['zhat']\n",
    "nit2 = len(zhat_hist)\n",
    "zpow = np.mean(np.abs(z0)**2)\n",
    "\n",
    "mse_oracle = np.zeros(nit2)\n",
    "for it in range(nit2):\n",
    "    zhati = zhat_hist[it]\n",
    "    zerr = np.mean(np.abs(zhati-z0)**2)\n",
    "    mse_oracle[it] = 10*np.log10(zerr/zpow)\n",
    "    \n",
    "# Print final MSE\n",
    "print(\"Final MSE (oracle) = {0:f} dB\".format(mse_oracle[-1]))"
   ]
  },
  {
   "cell_type": "markdown",
   "metadata": {},
   "source": [
    "Next, we run the EM estimator.  We see we obtain a similar final MSE."
   ]
  },
  {
   "cell_type": "code",
   "execution_count": 9,
   "metadata": {},
   "outputs": [
    {
     "name": "stdout",
     "output_type": "stream",
     "text": [
      "Final MSE (EM) = -28.927924 dB\n"
     ]
    }
   ],
   "source": [
    "# Create the message handler\n",
    "msg_hdl = vp.estim.MsgHdlSimp(map_est=map_est, shape=zshape0)\n",
    "\n",
    "# Create the solver\n",
    "solver = vp.solver.Vamp(est_in_em, est_out_em, msg_hdl,hist_list=['zhat'],nit=nit)       \n",
    "\n",
    "# Run the solver\n",
    "solver.solve()\n",
    "\n",
    "# Get the estimation history\n",
    "zhat_hist = solver.hist_dict['zhat']\n",
    "nit2 = len(zhat_hist)\n",
    "zpow = np.mean(np.abs(z0)**2)\n",
    "\n",
    "mse_em = np.zeros(nit2)\n",
    "for it in range(nit2):\n",
    "    zhati = zhat_hist[it]\n",
    "    zerr = np.mean(np.abs(zhati-z0)**2)\n",
    "    mse_em[it] = 10*np.log10(zerr/zpow)\n",
    "    \n",
    "# Print final MSE\n",
    "print(\"Final MSE (EM) = {0:f} dB\".format(mse_em[-1]))    "
   ]
  },
  {
   "cell_type": "markdown",
   "metadata": {},
   "source": [
    "We plot the two MSEs as a function of the iteration number."
   ]
  },
  {
   "cell_type": "code",
   "execution_count": 10,
   "metadata": {},
   "outputs": [
    {
     "data": {
      "image/png": "[encoded data removed]",
      "text/plain": [
       "<Figure size 432x288 with 1 Axes>"
      ]
     },
     "metadata": {
      "needs_background": "light"
     },
     "output_type": "display_data"
    }
   ],
   "source": [
    "t = np.arange(nit2)\n",
    "plt.plot(t,mse_oracle,'o-')\n",
    "plt.plot(t,mse_em,'s-')\n",
    "plt.grid()\n",
    "plt.xlabel('Iteration')\n",
    "plt.ylabel('MSE (dB)')\n",
    "plt.legend(['Oracle', 'EM'])\n",
    "plt.show()\n"
   ]
  },
  {
   "cell_type": "markdown",
   "metadata": {},
   "source": [
    "We see that the EM algorithm is eventually able to obtain the same MSE, but with a few more iterations."
   ]
  },
  {
   "cell_type": "code",
   "execution_count": null,
   "metadata": {},
   "outputs": [],
   "source": []
  },
  {
   "cell_type": "code",
   "execution_count": null,
   "metadata": {},
   "outputs": [],
   "source": []
  }
 ],
 "metadata": {
  "anaconda-cloud": {},
  "kernelspec": {
   "display_name": "PyTorch",
   "language": "python",
   "name": "pythorch"
  },
  "language_info": {
   "codemirror_mode": {
    "name": "ipython",
    "version": 3
   },
   "file_extension": ".py",
   "mimetype": "text/x-python",
   "name": "python",
   "nbconvert_exporter": "python",
   "pygments_lexer": "ipython3",
   "version": "3.6.6"
  }
 },
 "nbformat": 4,
 "nbformat_minor": 1
}
