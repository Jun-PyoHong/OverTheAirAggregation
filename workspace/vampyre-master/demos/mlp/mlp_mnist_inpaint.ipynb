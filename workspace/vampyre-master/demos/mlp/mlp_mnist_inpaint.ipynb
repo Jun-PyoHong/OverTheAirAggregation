{
 "cells": [
  {
   "cell_type": "markdown",
   "metadata": {},
   "source": [
    "# Multi-Layer Perceptron Inpainting with MNIST\n",
    "\n",
    "In the [MLP demo](mlp_denoise_synthetic.ipynb), we saw how to use the multi-layer VAMP (ML-VAMP) method for denoising with a prior based on a multi-layer perceptron.  We illustrated the method on synthetic data generated from a random MLP model.  Here we will repeat the experiment with the MNIST data.  Specifically, we consider the problem of estimating an MNIST digit image $x$ from linear measurements $y$ of the form,\n",
    "$$\n",
    "      y = Ax,\n",
    "$$\n",
    "where $A$ is a sub-sampling operation.  The sub-sampling operation outputs a subset of the pixels in $x$ corresponding to some non-occuluded area. This problem of reconstructing an image $x$ with a portion of the image removed is called *inpainting*. Inpainting requires a prior on the image. In this demo, we will use an MLP generative model for that prior.\n",
    "\n",
    "## Importing the Package \n",
    "We first import the `vampyre` and other packages as in the [sparse linear inverse demo](sparse_lin_inverse.ipynb)."
   ]
  },
  {
   "cell_type": "code",
   "execution_count": 1,
   "metadata": {},
   "outputs": [],
   "source": [
    "# Add the vampyre path to the system path\n",
    "import os\n",
    "import sys\n",
    "vp_path = os.path.abspath('../../')\n",
    "if not vp_path in sys.path:\n",
    "    sys.path.append(vp_path)\n",
    "import vampyre as vp\n",
    "\n",
    "# Load the other packages\n",
    "import numpy as np\n",
    "import matplotlib\n",
    "import matplotlib.pyplot as plt\n",
    "%matplotlib inline"
   ]
  },
  {
   "cell_type": "markdown",
   "metadata": {},
   "source": [
    "We will also need other packages including `tensorflow`.  "
   ]
  },
  {
   "cell_type": "code",
   "execution_count": 2,
   "metadata": {
    "collapsed": true
   },
   "outputs": [],
   "source": [
    "import tensorflow as tf\n",
    "import numpy as np\n",
    "import scipy\n",
    "import matplotlib.pyplot as plt\n",
    "import pickle\n",
    "\n",
    "from tensorflow.examples.tutorials.mnist import input_data"
   ]
  },
  {
   "cell_type": "markdown",
   "metadata": {},
   "source": [
    "## Loading the MLP model of MNIST\n",
    "\n",
    "There are several widely-used methods for learning generative MLP models for complex data.  In this demo, we will simply load the model in the save parameter file.  The model was trained using a so-called variation auto-encoder method by Kigma and Welling.  You can recreate the model yourself by running the program `vae_train.py`. "
   ]
  },
  {
   "cell_type": "code",
   "execution_count": 22,
   "metadata": {},
   "outputs": [
    {
     "name": "stdout",
     "output_type": "stream",
     "text": [
      "Model successfully loaded.\n"
     ]
    }
   ],
   "source": [
    "# Load the VAE model\n",
    "if not os.path.exists('param.p'):\n",
    "    raise Exception(\"The parameter file, param.p, is not available.  \"+\n",
    "        \"Run the program vae_train.py to build the vae model and save the\"+\n",
    "        \" parameters\")\n",
    "[Wdec,bdec,Wenc,benc]  = pickle.load(open(\"param.p\",\"rb\"))\n",
    "\n",
    "print(\"Model successfully loaded.\")"
   ]
  },
  {
   "cell_type": "code",
   "execution_count": null,
   "metadata": {
    "collapsed": true
   },
   "outputs": [],
   "source": []
  },
  {
   "cell_type": "markdown",
   "metadata": {},
   "source": [
    "## Create a Sub-Sampling Transform\n",
    "\n",
    "In this demo, the measurements $y$ will be a sub-set of the pixels in the image $x$.  Thus, the estimation problem is to recover $x$ from an occluded image.  We set the vectors `Ierase` and `Ikeep` as list of pixels to erase and keep."
   ]
  },
  {
   "cell_type": "code",
   "execution_count": 4,
   "metadata": {
    "collapsed": true
   },
   "outputs": [],
   "source": [
    "npix = 784\n",
    "nrow = 28\n",
    "row0 = 10   # First row to erase\n",
    "row1 = 20   # Last row to erase\n",
    "Ierase = range(nrow*row0,nrow*row1)\n",
    "Ikeep = np.setdiff1d(range(npix), Ierase)"
   ]
  },
  {
   "cell_type": "markdown",
   "metadata": {},
   "source": [
    "We obtain a set of test images, and erase the pixels"
   ]
  },
  {
   "cell_type": "code",
   "execution_count": 5,
   "metadata": {},
   "outputs": [
    {
     "name": "stdout",
     "output_type": "stream",
     "text": [
      "Successfully downloaded train-images-idx3-ubyte.gz 9912422 bytes.\n",
      "Extracting MNIST\\train-images-idx3-ubyte.gz\n",
      "Successfully downloaded train-labels-idx1-ubyte.gz 28881 bytes.\n",
      "Extracting MNIST\\train-labels-idx1-ubyte.gz\n",
      "Successfully downloaded t10k-images-idx3-ubyte.gz 1648877 bytes.\n",
      "Extracting MNIST\\t10k-images-idx3-ubyte.gz\n",
      "Successfully downloaded t10k-labels-idx1-ubyte.gz 4542 bytes.\n",
      "Extracting MNIST\\t10k-labels-idx1-ubyte.gz\n"
     ]
    }
   ],
   "source": [
    "# Load MNIST\n",
    "if not 'mnist' in locals():\n",
    "    mnist = input_data.read_data_sets('MNIST')\n",
    "\n",
    "# Batch size to test on\n",
    "batch_size = 10\n",
    "\n",
    "# Get the test images and load them into the final layer\n",
    "xtrue, labels = mnist.test.next_batch(batch_size)\n",
    "xtrue = xtrue.T\n",
    "\n",
    "# Erase the pixels\n",
    "y = xtrue[Ikeep,:]\n",
    "\n",
    "# Create the erased image\n",
    "xerase = np.ones((npix,batch_size))*0.5\n",
    "xerase[Ikeep,:] = y"
   ]
  },
  {
   "cell_type": "markdown",
   "metadata": {},
   "source": [
    "We will use the following function to plot the images"
   ]
  },
  {
   "cell_type": "code",
   "execution_count": 6,
   "metadata": {
    "collapsed": true
   },
   "outputs": [],
   "source": [
    "def plt_digit(x):\n",
    "    \"\"\"\n",
    "    Plots a digit in the MNIST dataset.\n",
    "    \n",
    "    :param:`x` is the digit to plot represented as 784 dim vector\n",
    "    \"\"\"\n",
    "    nrow = 28\n",
    "    ncol = 28\n",
    "    xsq = x.reshape((nrow,ncol))\n",
    "    plt.imshow(np.maximum(0,xsq), cmap='Greys_r')\n",
    "    plt.xticks([])\n",
    "    plt.yticks([])"
   ]
  },
  {
   "cell_type": "markdown",
   "metadata": {},
   "source": [
    "We plot a few examples of the original image and the occuluded image.  The occlusion is shown as the gra"
   ]
  },
  {
   "cell_type": "code",
   "execution_count": 7,
   "metadata": {},
   "outputs": [
    {
     "data": {
      "image/png": "[encoded data removed]",
      "text/plain": [
       "<matplotlib.figure.Figure at 0x2c5b4a7b128>"
      ]
     },
     "metadata": {},
     "output_type": "display_data"
    },
    {
     "data": {
      "image/png": "[encoded data removed]",
      "text/plain": [
       "<matplotlib.figure.Figure at 0x2c5bc73a908>"
      ]
     },
     "metadata": {},
     "output_type": "display_data"
    },
    {
     "data": {
      "image/png": "[encoded data removed]",
      "text/plain": [
       "<matplotlib.figure.Figure at 0x2c5bc9ada90>"
      ]
     },
     "metadata": {},
     "output_type": "display_data"
    },
    {
     "data": {
      "image/png": "[encoded data removed]",
      "text/plain": [
       "<matplotlib.figure.Figure at 0x2c5bca4f2e8>"
      ]
     },
     "metadata": {},
     "output_type": "display_data"
    },
    {
     "data": {
      "image/png": "[encoded data removed]",
      "text/plain": [
       "<matplotlib.figure.Figure at 0x2c5bcaedeb8>"
      ]
     },
     "metadata": {},
     "output_type": "display_data"
    }
   ],
   "source": [
    "nplot = 5      # number of samples to plot\n",
    "nrow_plot = 2  # number of images per row\n",
    "for icol in range(nplot):\n",
    "    plt.figure(figsize=(5,5))\n",
    "    plt.subplot(nplot,nrow_plot,icol*nrow_plot+1)\n",
    "    plt_digit(xtrue[:,icol])\n",
    "    if (icol == 0):\n",
    "        plt.title('Original')        \n",
    "    plt.subplot(nplot,nrow_plot,icol*nrow_plot+2)\n",
    "    plt_digit(xerase[:,icol])\n",
    "    if (icol == 0):\n",
    "        plt.title('Erased')                "
   ]
  },
  {
   "cell_type": "markdown",
   "metadata": {},
   "source": [
    "## Represent the MLP model for ML-VAMP\n",
    "\n",
    "We next model the MLP as a multi-layer network for ML-VAMP. One slight complication for the MNIST model is that in the VAE model, the final output stage is modeled as a logistic function which is difficult to capture in ML-VAMP (it does not have a simple analytic denoiser).  So, we replace it with a probit output with the probit variance set to match the logistic variance."
   ]
  },
  {
   "cell_type": "code",
   "execution_count": 8,
   "metadata": {},
   "outputs": [
    {
     "data": {
      "text/plain": [
       "<matplotlib.legend.Legend at 0x2c5bcc167f0>"
      ]
     },
     "execution_count": 8,
     "metadata": {},
     "output_type": "execute_result"
    },
    {
     "data": {
      "image/png": "[encoded data removed]",
      "text/plain": [
       "<matplotlib.figure.Figure at 0x2c5bc99e5f8>"
      ]
     },
     "metadata": {},
     "output_type": "display_data"
    }
   ],
   "source": [
    "def logistic_var():\n",
    "    \"\"\"\n",
    "    Finds a variance to match probit and logistic regression.\n",
    "    \n",
    "    Finds a variance :math:`\\\\tau_w` such that,\n",
    "    \n",
    "        :math:`p=P(W < z) \\\\approx \\\\frac{1}{1+e^{-z}},`\n",
    "        \n",
    "    where :math:`W \\\\sim {\\\\mathcal N}(0,\\\\tau_w)`.\n",
    "    \"\"\"\n",
    "    z = np.linspace(-5,5,1000)      # z points to test\n",
    "    p1 = 1/(1+np.exp(-z))           # target probability\n",
    "    var_test = np.linspace(2,3,1000)\n",
    "    err = []\n",
    "    for v in var_test:\n",
    "        p2 = 0.5*(1+scipy.special.erf(z/np.sqrt(v*2)))\n",
    "        err.append(np.mean((p1-p2)**2))\n",
    "    \n",
    "    i = np.argmin(err)\n",
    "    wvar = var_test[i]\n",
    "    return wvar\n",
    "\n",
    "# Since the logistic loss is not easily modeled in ML-VAMP, we replace\n",
    "# the logistic loss with an approximate probit loss.  TO this end, we find\n",
    "# a variance wvar such that the probit and logistic loss match.\n",
    "wvar = logistic_var()\n",
    "z = np.linspace(-5,5,1000)\n",
    "p1 = 1/(1+np.exp(-z))\n",
    "p2 = 0.5*(1+scipy.special.erf(z/np.sqrt(2*wvar)))\n",
    "\n",
    "plt.plot(z, np.log10(1-p1), linewidth=2)\n",
    "plt.plot(z, np.log10(1-p2), linewidth=2)\n",
    "plt.grid()\n",
    "plt.xlabel('z')\n",
    "plt.ylabel('Loss')\n",
    "plt.legend(['Logistic loss','Probit loss'])\n"
   ]
  },
  {
   "cell_type": "markdown",
   "metadata": {},
   "source": [
    "We next create the network to represent the MLP model for ML-VAMP.  This is identical to [MLP demo](mlp_denoise_synthetic.ipynb) where we create one estimator and message handler for each stage."
   ]
  },
  {
   "cell_type": "code",
   "execution_count": 13,
   "metadata": {},
   "outputs": [],
   "source": [
    "# Construct the first layer which is a Gaussian prior\n",
    "batch_size = 10\n",
    "n0 = Wdec[0].shape[0]\n",
    "est0 = vp.estim.GaussEst(0,1,shape=(n0,batch_size),name='Gauss input')\n",
    "est_list = [est0]\n",
    "\n",
    "# To improve the robustness, we add damping and place a lower bound on the variance \n",
    "damp = 0.75\n",
    "damp_var = 0.5\n",
    "alpha_max = 1-1e-3     \n",
    "rvar_min = 0.01\n",
    "\n",
    "# Loop over layers in the decoder model\n",
    "nlayers = len(Wdec)\n",
    "msg_hdl_list = []\n",
    "ind = 0\n",
    "for i in range(nlayers):\n",
    "    # Get matrices for the layer\n",
    "    Wi = Wdec[i].T\n",
    "    bi = bdec[i]\n",
    "        \n",
    "    # On the final layer, perform the erasing and add noise\n",
    "    if (i < nlayers-1):\n",
    "        wvari = 0\n",
    "    else:\n",
    "        Wi = Wi[Ikeep,:]\n",
    "        bi = bi[Ikeep]\n",
    "        wvari = wvar            \n",
    "    \n",
    "    n1,n0 = Wi.shape\n",
    "    zshape0 = (n0,batch_size)\n",
    "    zshape1 = (n1,batch_size)\n",
    "    \n",
    "    \n",
    "    name = 'Dense_%d' % ind            \n",
    "    Wiop = vp.trans.MatrixLT(Wi,zshape0)\n",
    "    esti = vp.estim.LinEstTwo(Wiop,bi[:,None],wvari,name=name)\n",
    "    est_list.append(esti)\n",
    "    \n",
    "    # Add the nonlinear layer    \n",
    "    if (i < nlayers-1):\n",
    "        name = 'ReLU_%d' % ind \n",
    "        # For all but the last layer, this is a ReLU\n",
    "        esti = vp.estim.ReLUEst(zshape1,map_est=False,name=name)\n",
    "    else:\n",
    "        # For the final layer it is a hard threshold        \n",
    "        esti = vp.estim.BinaryQuantEst(y,zshape1,name='Quantize')\n",
    "    est_list.append(esti)\n",
    "\n",
    "    # Add the message handlers    \n",
    "    msg_hdl = vp.estim.MsgHdlSimp(shape=zshape0,damp=damp,damp_var=damp_var,\\\n",
    "                                  alpha_max=alpha_max,rvar_min=rvar_min)    \n",
    "    msg_hdl_list.append(msg_hdl)\n",
    "    msg_hdl = vp.estim.MsgHdlSimp(shape=zshape1,damp=damp,damp_var=damp_var,\\\n",
    "                                  alpha_max=alpha_max,rvar_min=rvar_min)\n",
    "    msg_hdl_list.append(msg_hdl)\n",
    "    ind += 1\n",
    "    \n",
    "# For further robustness, we limit the variance ratio in layer 1 (the ReLU layer)\n",
    "msg_hdl_list[1].alpha_max = 0.95"
   ]
  },
  {
   "cell_type": "markdown",
   "metadata": {},
   "source": [
    "## Reconstruct the MNIST data\n",
    "\n",
    "To solve for the unknown pixels, we first create a solver."
   ]
  },
  {
   "cell_type": "code",
   "execution_count": 14,
   "metadata": {},
   "outputs": [],
   "source": [
    "# Create the MLVamp solver\n",
    "nit = 50\n",
    "solver = vp.solver.MLVamp(est_list,msg_hdl_list,comp_cost=True,\\\n",
    "        hist_list=['zhat','zhatvar'],nit=nit)\n"
   ]
  },
  {
   "cell_type": "markdown",
   "metadata": {},
   "source": [
    "We can print the summary of the model.  Notice that the final layer, which corresponds to the measurements, has 504 pixels which are the observed pixels."
   ]
  },
  {
   "cell_type": "code",
   "execution_count": 16,
   "metadata": {},
   "outputs": [
    {
     "name": "stdout",
     "output_type": "stream",
     "text": [
      "Layer | Estimator                      | shape      | var_axes\n",
      "  0   | Gauss input (GaussEst)         | (20, 10)   | (0,)    \n",
      "  1   | Dense_0 (LinEstTwo)            | (400, 10)  | (0,)    \n",
      "  2   | ReLU_0 (ReLUEst)               | (400, 10)  | (0,)    \n",
      "  3   | Dense_1 (LinEstTwo)            | (504, 10)  | (0,)    \n",
      "  4   | Quantize (BinaryQuantEst)      |            |         \n"
     ]
    }
   ],
   "source": [
    "solver.summary()"
   ]
  },
  {
   "cell_type": "markdown",
   "metadata": {},
   "source": [
    "Now, we run the solver.  This should take just a few seconds."
   ]
  },
  {
   "cell_type": "code",
   "execution_count": 23,
   "metadata": {
    "collapsed": true
   },
   "outputs": [],
   "source": [
    "solver.solve()"
   ]
  },
  {
   "cell_type": "markdown",
   "metadata": {},
   "source": [
    "Extract the final reconstruction.  We can do this by extracting the estimate for the second last stage `zhat[-2]` and then passing it through the final linear stage."
   ]
  },
  {
   "cell_type": "code",
   "execution_count": 20,
   "metadata": {},
   "outputs": [],
   "source": [
    "zhat = solver.zhat\n",
    "\n",
    "Wi = Wdec[nlayers-1].T\n",
    "bi = bdec[nlayers-1]\n",
    "zfinal = Wi.dot(zhat[-2]) + bi[:,None]\n",
    "\n",
    "xhat = 1/(1+np.exp(-zfinal))"
   ]
  },
  {
   "cell_type": "markdown",
   "metadata": {},
   "source": [
    "## Plot the Reconstruction"
   ]
  },
  {
   "cell_type": "code",
   "execution_count": 24,
   "metadata": {},
   "outputs": [
    {
     "data": {
      "image/png": "[encoded data removed]",
      "text/plain": [
       "<matplotlib.figure.Figure at 0x2c5bd8e12b0>"
      ]
     },
     "metadata": {},
     "output_type": "display_data"
    }
   ],
   "source": [
    "ncol = 10\n",
    "nrow = 3\n",
    "plt.figure(figsize=(10,5))\n",
    "for icol in range(ncol):\n",
    "    plt.subplot(ncol,nrow,icol*nrow+1)\n",
    "    plt_digit(xtrue[:,icol])\n",
    "    if (icol == 0):\n",
    "        plt.title('Original')\n",
    "    \n",
    "    plt.subplot(ncol,nrow,icol*nrow+2)\n",
    "    plt_digit(xerase[:,icol])\n",
    "    if (icol == 0):\n",
    "        plt.title('Erased')\n",
    "    \n",
    "    plt.subplot(ncol,nrow,icol*nrow+3)\n",
    "    plt_digit(xhat[:,icol])\n",
    "    if (icol == 0):\n",
    "        plt.title('ML-VAMP')\n"
   ]
  },
  {
   "cell_type": "code",
   "execution_count": null,
   "metadata": {
    "collapsed": true
   },
   "outputs": [],
   "source": []
  }
 ],
 "metadata": {
  "anaconda-cloud": {},
  "kernelspec": {
   "display_name": "Python [conda root]",
   "language": "python",
   "name": "conda-root-py"
  },
  "language_info": {
   "codemirror_mode": {
    "name": "ipython",
    "version": 3
   },
   "file_extension": ".py",
   "mimetype": "text/x-python",
   "name": "python",
   "nbconvert_exporter": "python",
   "pygments_lexer": "ipython3",
   "version": "3.5.4"
  }
 },
 "nbformat": 4,
 "nbformat_minor": 1
}
