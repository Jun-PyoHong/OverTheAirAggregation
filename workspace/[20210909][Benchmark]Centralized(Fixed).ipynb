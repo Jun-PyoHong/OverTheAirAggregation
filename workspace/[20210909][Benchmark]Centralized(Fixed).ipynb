{
 "cells": [
  {
   "cell_type": "markdown",
   "metadata": {},
   "source": [
    "## Simulation Environments (last updated 21.03.31)\n",
    "- CU with local dataset\n",
    "- **Local dataset**: Unbalanced (3 classes/local dataset), Non-i.i.d., non-overapped samples\n",
    "- **Channel**: Pathloss + Rayleigh fading\n",
    "- **Power Allocation**: Waterfilling Power Allocation\n",
    "- **Transmission type**: Analog Transmission with Orthogonal sub-channel allocation\n",
    "- **Fixed device deployment** and **Fixed local dataset**\n",
    "\n",
    "- CU and deivces have the same weight for the model update"
   ]
  },
  {
   "cell_type": "code",
   "execution_count": 1,
   "metadata": {
    "ExecuteTime": {
     "end_time": "2021-09-09T08:40:55.138900Z",
     "start_time": "2021-09-09T08:40:54.007834Z"
    },
    "scrolled": true
   },
   "outputs": [
    {
     "name": "stdout",
     "output_type": "stream",
     "text": [
      "cuda:0\n"
     ]
    }
   ],
   "source": [
    "import copy\n",
    "import torch\n",
    "import torchvision\n",
    "import torchvision.transforms as transforms\n",
    "import matplotlib.pyplot as plt\n",
    "import numpy as np\n",
    "import torch.nn as nn\n",
    "import torch.nn.functional as F\n",
    "import math\n",
    "import random\n",
    "\n",
    "device = torch.device(\"cuda:0\" if torch.cuda.is_available() else \"cpu\")\n",
    "print(device)"
   ]
  },
  {
   "cell_type": "code",
   "execution_count": 2,
   "metadata": {
    "ExecuteTime": {
     "end_time": "2021-09-09T08:40:57.091278Z",
     "start_time": "2021-09-09T08:40:55.140895Z"
    }
   },
   "outputs": [
    {
     "data": {
      "text/plain": [
       "Net(\n",
       "  (conv1): Conv2d(1, 32, kernel_size=(5, 5), stride=(1, 1))\n",
       "  (pool): MaxPool2d(kernel_size=2, stride=2, padding=0, dilation=1, ceil_mode=False)\n",
       "  (conv2): Conv2d(32, 64, kernel_size=(5, 5), stride=(1, 1))\n",
       "  (fc1): Linear(in_features=1024, out_features=512, bias=True)\n",
       "  (fc2): Linear(in_features=512, out_features=10, bias=True)\n",
       ")"
      ]
     },
     "execution_count": 2,
     "metadata": {},
     "output_type": "execute_result"
    }
   ],
   "source": [
    "class Net(nn.Module):\n",
    "    def __init__(self):\n",
    "        super(Net, self).__init__()\n",
    "        self.conv1 = nn.Conv2d(1, 32, 5)\n",
    "        self.pool = nn.MaxPool2d(2, 2)\n",
    "        self.conv2 = nn.Conv2d(32, 64, 5)\n",
    "        self.fc1 = nn.Linear(64 * 4 * 4, 512)\n",
    "        self.fc2 = nn.Linear(512, 10)\n",
    "\n",
    "    def forward(self, x):\n",
    "        #x = self.pool(F.relu(self.conv1(x)))\n",
    "        x = self.pool(torch.tanh(self.conv1(x)))\n",
    "        #x = self.pool(F.relu(self.conv2(x)))        \n",
    "        x = self.pool(torch.tanh(self.conv2(x)))\n",
    "        x = x.view(-1, 64 * 4 * 4)\n",
    "        #x = F.relu(self.fc1(x))\n",
    "        x = torch.tanh(self.fc1(x))\n",
    "        x = self.fc2(x)\n",
    "        return x\n",
    "\n",
    "net = Net()\n",
    "net.to(device)"
   ]
  },
  {
   "cell_type": "markdown",
   "metadata": {},
   "source": [
    "### Default Setup *(Do not modify)*"
   ]
  },
  {
   "cell_type": "code",
   "execution_count": 3,
   "metadata": {
    "ExecuteTime": {
     "end_time": "2021-09-09T08:40:57.106232Z",
     "start_time": "2021-09-09T08:40:57.093242Z"
    }
   },
   "outputs": [],
   "source": [
    "lr = 0.1   # 0.1\n",
    "batch_local = 10   # Size of local minibatch\n",
    "E = 1 #3  # Local training epoch\n",
    "epoch_max = 300\n",
    "D = sum( p.numel() for p in net.parameters() if p.requires_grad)   # Number of parameters in model, 582,026 \n",
    "\n",
    "noise_pow_dBm = -50 #-100\n",
    "P_dBm = 20  #20\n",
    "gamma = 0.1  # Target received SNR\n",
    "\n",
    "B = 1024    # Number of subcarrier\n",
    "\n",
    "cell_radius = 400   # Distance to the farthest devices\n",
    "density = 250/(np.pi*500**2)   # 200 devices within 500m in average\n",
    "pathloss_exponent = 4\n",
    "\n",
    "num_classes = 3   # Number of classes in local dataset\n",
    "samples_avg_local = 200   # Average number of local samples\n",
    "samples_CU = samples_avg_local   # Average number of samples at CU\n",
    "\n",
    "regul_coeff = 10e-5   # L2 regularization parameter for avoiding overfitting\n",
    "#init_E = E   # Pre-training epoch"
   ]
  },
  {
   "cell_type": "markdown",
   "metadata": {},
   "source": [
    "### Variations in Setup *(Adjustable)*"
   ]
  },
  {
   "cell_type": "code",
   "execution_count": 4,
   "metadata": {
    "ExecuteTime": {
     "end_time": "2021-09-09T08:40:57.121168Z",
     "start_time": "2021-09-09T08:40:57.108202Z"
    }
   },
   "outputs": [],
   "source": [
    "samples_CU = 50000\n",
    "cell_radius = 0\n",
    "epoch_max = 100"
   ]
  },
  {
   "cell_type": "markdown",
   "metadata": {},
   "source": [
    "### Load Simulation Setups"
   ]
  },
  {
   "cell_type": "code",
   "execution_count": 5,
   "metadata": {
    "ExecuteTime": {
     "end_time": "2021-09-09T08:40:57.270797Z",
     "start_time": "2021-09-09T08:40:57.122164Z"
    }
   },
   "outputs": [],
   "source": [
    "PATH_DEPLOYMENT = './simulation_setups/Deployment_within_550.npy'\n",
    "PATH_TRAIN_DATASET = './simulation_setups/train_dataset.pth'\n",
    "PATH_LOCAL_DATASET = './simulation_setups/localdataset_within_550.npy'\n",
    "\n",
    "dev_deployment = np.load(PATH_DEPLOYMENT)        # Deployment of devices within 550 meters\n",
    "trainset = torch.load(PATH_TRAIN_DATASET)         # Load training data and labels\n",
    "x, y = trainset.values()\n",
    "idx_localDB = np.load(PATH_LOCAL_DATASET, allow_pickle=True)        # Classified data indices"
   ]
  },
  {
   "cell_type": "markdown",
   "metadata": {},
   "source": [
    "### Subordinate System Parameters *(Do not modify)*"
   ]
  },
  {
   "cell_type": "code",
   "execution_count": 6,
   "metadata": {
    "ExecuteTime": {
     "end_time": "2021-09-09T08:40:57.360287Z",
     "start_time": "2021-09-09T08:40:57.271764Z"
    }
   },
   "outputs": [
    {
     "name": "stdout",
     "output_type": "stream",
     "text": [
      "Number of participating devices:  0\n",
      "Number of utilized samples: 50000.0\n",
      "Link distances:  []\n",
      "Pathloss:  []\n"
     ]
    }
   ],
   "source": [
    "noise_pow = 10**(noise_pow_dBm/10)\n",
    "P = 10**(P_dBm/10)\n",
    "N = int(np.ceil(D/B))   # Number of transmit symbols\n",
    "dev_num = np.sum((np.linalg.norm(dev_deployment, axis=1)<cell_radius))   # Number of devices\n",
    "samples_local = [ len(idx_localDB[i]) for i in range(dev_num)]     # Number of samples at devices\n",
    "samples_global = samples_CU+np.sum(samples_local)\n",
    "print('Number of participating devices: ', dev_num)\n",
    "print('Number of utilized samples:', samples_global)\n",
    "\n",
    "dev_dist = np.linalg.norm(dev_deployment[:dev_num], axis=1)\n",
    "pathloss = dev_dist**-pathloss_exponent\n",
    "print('Link distances: ', dev_dist[0:5])\n",
    "print('Pathloss: ', pathloss[0:5])\n",
    "\n",
    "permute_idx = np.random.permutation(B*N)\n",
    "permute_idx_inv = np.argsort(permute_idx)"
   ]
  },
  {
   "cell_type": "code",
   "execution_count": 7,
   "metadata": {
    "ExecuteTime": {
     "end_time": "2021-09-09T08:40:57.719850Z",
     "start_time": "2021-09-09T08:40:57.362252Z"
    }
   },
   "outputs": [],
   "source": [
    "########### Data classification ##############\n",
    "idx = []   # Empty list\n",
    "for i in range(10):\n",
    "    tmp = list((y==i).nonzero()[0])\n",
    "    idx.append(tmp)\n",
    "    \n",
    "############ CU dataset ############\n",
    "CU_x = torch.zeros(samples_CU,1, 28, 28)\n",
    "CU_y = np.zeros(samples_CU, dtype=int)\n",
    "CU_dataset = []\n",
    "for i in range(10):\n",
    "    CU_dataset += idx[i][:int(samples_CU/10)]\n",
    "random.shuffle(CU_dataset)\n",
    "    \n",
    "for i, idx_CU in enumerate(CU_dataset):\n",
    "    CU_x[i], CU_y[i] = x[idx_CU], y[idx_CU]\n",
    "\n",
    "################### Test dataset ##################\n",
    "transform = transforms.Compose([transforms.ToTensor(), transforms.Normalize((0.5,), (0.5,))])\n",
    "testset = torchvision.datasets.MNIST(root='../shared/MNIST_dataset/', train=False, download=True, transform=transform)\n",
    "testloader = torch.utils.data.DataLoader(testset, batch_size=10, shuffle=False, num_workers=3)\n",
    "\n",
    "classes = (0, 1, 2, 3, 4, 5, 6, 7, 8, 9)"
   ]
  },
  {
   "cell_type": "code",
   "execution_count": 8,
   "metadata": {
    "ExecuteTime": {
     "end_time": "2021-09-09T08:40:57.734812Z",
     "start_time": "2021-09-09T08:40:57.721847Z"
    }
   },
   "outputs": [
    {
     "data": {
      "text/plain": [
       "\"\\ndef imshow(img):\\n    img = img / 2 + 0.5     # unnormalize\\n    npimg = img.numpy()\\n    plt.imshow(np.transpose(npimg, (1, 2, 0)))\\n    plt.show()\\n\\nimages = x[idx_localDB[0]]\\nlabels = y[idx_localDB[0]]\\n\\n# show images\\nfirst_row = int(np.sqrt(samples_local[0]))\\nimshow(torchvision.utils.make_grid(images, nrow=first_row))\\n# print labels\\nprint(' '.join('%d,' % classes[labels[j]] for j in range(int(first_row))))\\n\""
      ]
     },
     "execution_count": 8,
     "metadata": {},
     "output_type": "execute_result"
    }
   ],
   "source": [
    "# functions to show an image\n",
    "'''\n",
    "def imshow(img):\n",
    "    img = img / 2 + 0.5     # unnormalize\n",
    "    npimg = img.numpy()\n",
    "    plt.imshow(np.transpose(npimg, (1, 2, 0)))\n",
    "    plt.show()\n",
    "\n",
    "images = x[idx_localDB[0]]\n",
    "labels = y[idx_localDB[0]]\n",
    "\n",
    "# show images\n",
    "first_row = int(np.sqrt(samples_local[0]))\n",
    "imshow(torchvision.utils.make_grid(images, nrow=first_row))\n",
    "# print labels\n",
    "print(' '.join('%d,' % classes[labels[j]] for j in range(int(first_row))))\n",
    "'''"
   ]
  },
  {
   "cell_type": "code",
   "execution_count": 9,
   "metadata": {
    "ExecuteTime": {
     "end_time": "2021-09-09T08:40:57.749802Z",
     "start_time": "2021-09-09T08:40:57.736807Z"
    }
   },
   "outputs": [],
   "source": [
    "def model_localupdate(inputs, labels, net_org, E, batch_local, samples_local, lr):\n",
    "    criterion = nn.CrossEntropyLoss()\n",
    "    running_loss_local = 0.0\n",
    "    acc_local = 0.0\n",
    "    net_local = copy.deepcopy(net_org)   # deep copy of the network\n",
    "    for _ in range(E):   # Local training epoch\n",
    "        for b in range(int(np.ceil(samples_local/batch_local))):\n",
    "            \n",
    "            L2_reg = torch.tensor(0., requires_grad=True).to(device)\n",
    "            for param in net_local.parameters():\n",
    "                L2_reg = L2_reg + torch.norm(param, 2)\n",
    "            \n",
    "            start_idx = b*batch_local\n",
    "            end_idx = b*batch_local+np.min([batch_local, samples_local-b*batch_local])\n",
    "            outputs = net_local(inputs[start_idx:end_idx])\n",
    "            loss = criterion(outputs, labels[start_idx:end_idx]) + regul_coeff*L2_reg   # 10e-4 L2-Regularization to prevent overfitting \n",
    "            net_local.zero_grad()\n",
    "            loss.backward()\n",
    "            \n",
    "            if math.isnan(loss.item()): # Catch error\n",
    "                print(\"outputs\", outputs)\n",
    "                print(\"inputs\", inputs[start_idx:end_idx])\n",
    "                w_sum = 0\n",
    "                for i in net_local.parameters():\n",
    "                    w_sum+=torch.sum(i)\n",
    "                print('Sum of parameters: ', w_sum.item())\n",
    "                ErrorOccur = input(\"Nan appears\")\n",
    "            \n",
    "            with torch.no_grad():\n",
    "                running_loss_local += loss.item()/(samples_local/batch_local)/E\n",
    "                _, predicted = torch.max(outputs.data, 1)\n",
    "                acc_local += (predicted == labels[start_idx:end_idx]).sum().item()\n",
    "                for param_local in net_local.parameters():\n",
    "                    param_local -= lr*param_local.grad\n",
    "                    if math.isnan(torch.sum(param_local).item()):   # Catch error\n",
    "                        print(param_local)\n",
    "                        ErrorOccur = input(\"Nan appears\")\n",
    "                        \n",
    "    return net_local, running_loss_local, acc_local      "
   ]
  },
  {
   "cell_type": "code",
   "execution_count": 10,
   "metadata": {
    "ExecuteTime": {
     "end_time": "2021-09-09T08:40:57.764763Z",
     "start_time": "2021-09-09T08:40:57.750770Z"
    }
   },
   "outputs": [],
   "source": [
    "def power_allocation(gamma, noise_pow, P, N, B, delta, h_pow, rho, samples_local, samples_global):\n",
    "    delta_pow_2d = (delta**2).reshape((N, B))   # (N, B)\n",
    "            \n",
    "    g = (1/h_pow).reshape((N,B))    \n",
    "    w = samples_local/samples_global\n",
    "    u = (gamma*noise_pow/rho) * g * w**2   # (N, B)\n",
    "    c_init = np.max(delta**2)/(np.min(u))\n",
    "            \n",
    "    v = 1.0*delta_pow_2d   #(N,B)\n",
    "    WF_idx = np.nonzero(1.0*(np.sum(u*delta_pow_2d, axis=1) > P))[0]   # (N, ) Sub-carriers for waterfilling \n",
    "            \n",
    "    for idx in WF_idx:\n",
    "        c_min = 0\n",
    "        while np.sum(u[idx]*np.maximum(delta_pow_2d[idx]-c_init*u[idx],0))>P:\n",
    "            c_init *=2\n",
    "        c_max = c_init\n",
    "                                    \n",
    "        while (c_max - c_min)>c_init*10**-10:\n",
    "            c_mid = (c_min+c_max)/2\n",
    "            v_mid = np.maximum(delta_pow_2d[idx]-c_mid*u[idx], 0)\n",
    "            if np.sum(v_mid*u[idx])>P:\n",
    "                c_min = c_mid\n",
    "            else:\n",
    "                c_max = c_mid\n",
    "        v[idx] = v_mid\n",
    "                \n",
    "    P_alloc = (u*v).reshape(-1)   # (N*B, )\n",
    "\n",
    "    return P_alloc "
   ]
  },
  {
   "cell_type": "code",
   "execution_count": 11,
   "metadata": {
    "ExecuteTime": {
     "end_time": "2021-09-09T09:25:25.443779Z",
     "start_time": "2021-09-09T08:40:57.766727Z"
    },
    "scrolled": false
   },
   "outputs": [
    {
     "name": "stdout",
     "output_type": "stream",
     "text": [
      "avg_update_SNR: 36.189690\n",
      "[epoch: 1, CU] loss: 0.150  accuracy: 0.955\n",
      "Accuracy for 10,000 test images: 98.18 %\n",
      "avg_update_SNR: 9.363315\n",
      "[epoch: 2, CU] loss: 0.063  accuracy: 0.983\n",
      "Accuracy for 10,000 test images: 98.65 %\n",
      "avg_update_SNR: 7.343749\n",
      "[epoch: 3, CU] loss: 0.040  accuracy: 0.990\n",
      "Accuracy for 10,000 test images: 98.76 %\n",
      "avg_update_SNR: 5.656757\n",
      "[epoch: 4, CU] loss: 0.026  accuracy: 0.993\n",
      "Accuracy for 10,000 test images: 98.74 %\n",
      "avg_update_SNR: 5.420165\n",
      "[epoch: 5, CU] loss: 0.021  accuracy: 0.995\n",
      "Accuracy for 10,000 test images: 99.15 %\n",
      "avg_update_SNR: 3.604648\n",
      "[epoch: 6, CU] loss: 0.015  accuracy: 0.997\n",
      "Accuracy for 10,000 test images: 99.17 %\n",
      "avg_update_SNR: 2.879040\n",
      "[epoch: 7, CU] loss: 0.012  accuracy: 0.998\n",
      "Accuracy for 10,000 test images: 98.89 %\n",
      "avg_update_SNR: 2.030228\n",
      "[epoch: 8, CU] loss: 0.010  accuracy: 0.999\n",
      "Accuracy for 10,000 test images: 99.14 %\n",
      "avg_update_SNR: 0.836496\n",
      "[epoch: 9, CU] loss: 0.008  accuracy: 0.999\n",
      "Accuracy for 10,000 test images: 99.24 %\n",
      "avg_update_SNR: 0.318093\n",
      "[epoch: 10, CU] loss: 0.007  accuracy: 1.000\n",
      "Accuracy for 10,000 test images: 99.05 %\n",
      "avg_update_SNR: 0.185539\n",
      "[epoch: 11, CU] loss: 0.007  accuracy: 1.000\n",
      "Accuracy for 10,000 test images: 99.21 %\n",
      "avg_update_SNR: 0.068506\n",
      "[epoch: 12, CU] loss: 0.006  accuracy: 1.000\n",
      "Accuracy for 10,000 test images: 99.18 %\n",
      "avg_update_SNR: 0.011970\n",
      "[epoch: 13, CU] loss: 0.006  accuracy: 1.000\n",
      "Accuracy for 10,000 test images: 99.20 %\n",
      "avg_update_SNR: 0.003457\n",
      "[epoch: 14, CU] loss: 0.006  accuracy: 1.000\n",
      "Accuracy for 10,000 test images: 99.21 %\n",
      "avg_update_SNR: 0.002675\n",
      "[epoch: 15, CU] loss: 0.006  accuracy: 1.000\n",
      "Accuracy for 10,000 test images: 99.20 %\n",
      "avg_update_SNR: 0.002578\n",
      "[epoch: 16, CU] loss: 0.006  accuracy: 1.000\n",
      "Accuracy for 10,000 test images: 99.20 %\n",
      "avg_update_SNR: 0.002522\n",
      "[epoch: 17, CU] loss: 0.006  accuracy: 1.000\n",
      "Accuracy for 10,000 test images: 99.20 %\n",
      "avg_update_SNR: 0.002484\n",
      "[epoch: 18, CU] loss: 0.006  accuracy: 1.000\n",
      "Accuracy for 10,000 test images: 99.20 %\n",
      "avg_update_SNR: 0.002457\n",
      "[epoch: 19, CU] loss: 0.006  accuracy: 1.000\n",
      "Accuracy for 10,000 test images: 99.20 %\n",
      "avg_update_SNR: 0.002435\n",
      "[epoch: 20, CU] loss: 0.006  accuracy: 1.000\n",
      "Accuracy for 10,000 test images: 99.19 %\n",
      "avg_update_SNR: 0.002417\n",
      "[epoch: 21, CU] loss: 0.006  accuracy: 1.000\n",
      "Accuracy for 10,000 test images: 99.19 %\n",
      "avg_update_SNR: 0.002402\n",
      "[epoch: 22, CU] loss: 0.006  accuracy: 1.000\n",
      "Accuracy for 10,000 test images: 99.19 %\n",
      "avg_update_SNR: 0.002389\n",
      "[epoch: 23, CU] loss: 0.006  accuracy: 1.000\n",
      "Accuracy for 10,000 test images: 99.21 %\n",
      "avg_update_SNR: 0.002377\n",
      "[epoch: 24, CU] loss: 0.006  accuracy: 1.000\n",
      "Accuracy for 10,000 test images: 99.22 %\n",
      "avg_update_SNR: 0.002364\n",
      "[epoch: 25, CU] loss: 0.006  accuracy: 1.000\n",
      "Accuracy for 10,000 test images: 99.22 %\n",
      "avg_update_SNR: 0.001939\n",
      "[epoch: 26, CU] loss: 0.006  accuracy: 1.000\n",
      "Accuracy for 10,000 test images: 99.22 %\n",
      "avg_update_SNR: 0.001930\n",
      "[epoch: 27, CU] loss: 0.006  accuracy: 1.000\n",
      "Accuracy for 10,000 test images: 99.22 %\n",
      "avg_update_SNR: 0.001921\n",
      "[epoch: 28, CU] loss: 0.005  accuracy: 1.000\n",
      "Accuracy for 10,000 test images: 99.22 %\n",
      "avg_update_SNR: 0.001912\n",
      "[epoch: 29, CU] loss: 0.005  accuracy: 1.000\n",
      "Accuracy for 10,000 test images: 99.22 %\n",
      "avg_update_SNR: 0.001904\n",
      "[epoch: 30, CU] loss: 0.005  accuracy: 1.000\n",
      "Accuracy for 10,000 test images: 99.22 %\n",
      "avg_update_SNR: 0.001896\n",
      "[epoch: 31, CU] loss: 0.005  accuracy: 1.000\n",
      "Accuracy for 10,000 test images: 99.22 %\n",
      "avg_update_SNR: 0.001887\n",
      "[epoch: 32, CU] loss: 0.005  accuracy: 1.000\n",
      "Accuracy for 10,000 test images: 99.22 %\n",
      "avg_update_SNR: 0.001879\n",
      "[epoch: 33, CU] loss: 0.005  accuracy: 1.000\n",
      "Accuracy for 10,000 test images: 99.21 %\n",
      "avg_update_SNR: 0.001871\n",
      "[epoch: 34, CU] loss: 0.005  accuracy: 1.000\n",
      "Accuracy for 10,000 test images: 99.23 %\n",
      "avg_update_SNR: 0.001863\n",
      "[epoch: 35, CU] loss: 0.005  accuracy: 1.000\n",
      "Accuracy for 10,000 test images: 99.23 %\n",
      "avg_update_SNR: 0.001855\n",
      "[epoch: 36, CU] loss: 0.005  accuracy: 1.000\n",
      "Accuracy for 10,000 test images: 99.24 %\n",
      "avg_update_SNR: 0.001846\n",
      "[epoch: 37, CU] loss: 0.005  accuracy: 1.000\n",
      "Accuracy for 10,000 test images: 99.23 %\n",
      "avg_update_SNR: 0.001838\n",
      "[epoch: 38, CU] loss: 0.005  accuracy: 1.000\n",
      "Accuracy for 10,000 test images: 99.24 %\n",
      "avg_update_SNR: 0.001830\n",
      "[epoch: 39, CU] loss: 0.005  accuracy: 1.000\n",
      "Accuracy for 10,000 test images: 99.24 %\n",
      "avg_update_SNR: 0.001821\n",
      "[epoch: 40, CU] loss: 0.005  accuracy: 1.000\n",
      "Accuracy for 10,000 test images: 99.24 %\n",
      "avg_update_SNR: 0.001812\n",
      "[epoch: 41, CU] loss: 0.005  accuracy: 1.000\n",
      "Accuracy for 10,000 test images: 99.23 %\n",
      "avg_update_SNR: 0.001804\n",
      "[epoch: 42, CU] loss: 0.005  accuracy: 1.000\n",
      "Accuracy for 10,000 test images: 99.23 %\n",
      "avg_update_SNR: 0.001795\n",
      "[epoch: 43, CU] loss: 0.005  accuracy: 1.000\n",
      "Accuracy for 10,000 test images: 99.23 %\n",
      "avg_update_SNR: 0.001786\n",
      "[epoch: 44, CU] loss: 0.005  accuracy: 1.000\n",
      "Accuracy for 10,000 test images: 99.23 %\n",
      "avg_update_SNR: 0.001776\n",
      "[epoch: 45, CU] loss: 0.005  accuracy: 1.000\n",
      "Accuracy for 10,000 test images: 99.22 %\n",
      "avg_update_SNR: 0.001767\n",
      "[epoch: 46, CU] loss: 0.005  accuracy: 1.000\n",
      "Accuracy for 10,000 test images: 99.22 %\n",
      "avg_update_SNR: 0.001757\n",
      "[epoch: 47, CU] loss: 0.005  accuracy: 1.000\n",
      "Accuracy for 10,000 test images: 99.22 %\n",
      "avg_update_SNR: 0.001747\n",
      "[epoch: 48, CU] loss: 0.005  accuracy: 1.000\n",
      "Accuracy for 10,000 test images: 99.22 %\n",
      "avg_update_SNR: 0.001737\n",
      "[epoch: 49, CU] loss: 0.005  accuracy: 1.000\n",
      "Accuracy for 10,000 test images: 99.21 %\n",
      "avg_update_SNR: 0.001727\n",
      "[epoch: 50, CU] loss: 0.005  accuracy: 1.000\n",
      "Accuracy for 10,000 test images: 99.21 %\n",
      "avg_update_SNR: 0.001717\n",
      "[epoch: 51, CU] loss: 0.005  accuracy: 1.000\n",
      "Accuracy for 10,000 test images: 99.21 %\n",
      "avg_update_SNR: 0.001706\n",
      "[epoch: 52, CU] loss: 0.005  accuracy: 1.000\n",
      "Accuracy for 10,000 test images: 99.21 %\n",
      "avg_update_SNR: 0.001696\n",
      "[epoch: 53, CU] loss: 0.005  accuracy: 1.000\n",
      "Accuracy for 10,000 test images: 99.21 %\n",
      "avg_update_SNR: 0.001685\n",
      "[epoch: 54, CU] loss: 0.005  accuracy: 1.000\n",
      "Accuracy for 10,000 test images: 99.21 %\n",
      "avg_update_SNR: 0.001674\n",
      "[epoch: 55, CU] loss: 0.005  accuracy: 1.000\n",
      "Accuracy for 10,000 test images: 99.21 %\n",
      "avg_update_SNR: 0.001662\n",
      "[epoch: 56, CU] loss: 0.005  accuracy: 1.000\n",
      "Accuracy for 10,000 test images: 99.21 %\n",
      "avg_update_SNR: 0.001651\n",
      "[epoch: 57, CU] loss: 0.005  accuracy: 1.000\n",
      "Accuracy for 10,000 test images: 99.21 %\n",
      "avg_update_SNR: 0.001639\n",
      "[epoch: 58, CU] loss: 0.005  accuracy: 1.000\n",
      "Accuracy for 10,000 test images: 99.22 %\n",
      "avg_update_SNR: 0.001627\n",
      "[epoch: 59, CU] loss: 0.005  accuracy: 1.000\n",
      "Accuracy for 10,000 test images: 99.22 %\n",
      "avg_update_SNR: 0.001615\n",
      "[epoch: 60, CU] loss: 0.005  accuracy: 1.000\n",
      "Accuracy for 10,000 test images: 99.22 %\n",
      "avg_update_SNR: 0.001602\n",
      "[epoch: 61, CU] loss: 0.005  accuracy: 1.000\n",
      "Accuracy for 10,000 test images: 99.23 %\n",
      "avg_update_SNR: 0.001590\n",
      "[epoch: 62, CU] loss: 0.005  accuracy: 1.000\n",
      "Accuracy for 10,000 test images: 99.23 %\n",
      "avg_update_SNR: 0.001577\n",
      "[epoch: 63, CU] loss: 0.005  accuracy: 1.000\n",
      "Accuracy for 10,000 test images: 99.23 %\n",
      "avg_update_SNR: 0.001564\n",
      "[epoch: 64, CU] loss: 0.005  accuracy: 1.000\n",
      "Accuracy for 10,000 test images: 99.22 %\n",
      "avg_update_SNR: 0.001551\n",
      "[epoch: 65, CU] loss: 0.005  accuracy: 1.000\n",
      "Accuracy for 10,000 test images: 99.22 %\n",
      "avg_update_SNR: 0.001537\n",
      "[epoch: 66, CU] loss: 0.005  accuracy: 1.000\n",
      "Accuracy for 10,000 test images: 99.21 %\n",
      "avg_update_SNR: 0.001524\n",
      "[epoch: 67, CU] loss: 0.005  accuracy: 1.000\n",
      "Accuracy for 10,000 test images: 99.21 %\n",
      "avg_update_SNR: 0.001510\n",
      "[epoch: 68, CU] loss: 0.005  accuracy: 1.000\n",
      "Accuracy for 10,000 test images: 99.21 %\n",
      "avg_update_SNR: 0.001496\n",
      "[epoch: 69, CU] loss: 0.005  accuracy: 1.000\n",
      "Accuracy for 10,000 test images: 99.21 %\n",
      "avg_update_SNR: 0.001482\n",
      "[epoch: 70, CU] loss: 0.005  accuracy: 1.000\n",
      "Accuracy for 10,000 test images: 99.22 %\n",
      "avg_update_SNR: 0.001468\n",
      "[epoch: 71, CU] loss: 0.005  accuracy: 1.000\n",
      "Accuracy for 10,000 test images: 99.23 %\n",
      "avg_update_SNR: 0.001453\n",
      "[epoch: 72, CU] loss: 0.005  accuracy: 1.000\n",
      "Accuracy for 10,000 test images: 99.23 %\n",
      "avg_update_SNR: 0.001439\n",
      "[epoch: 73, CU] loss: 0.005  accuracy: 1.000\n",
      "Accuracy for 10,000 test images: 99.23 %\n",
      "avg_update_SNR: 0.001424\n",
      "[epoch: 74, CU] loss: 0.005  accuracy: 1.000\n",
      "Accuracy for 10,000 test images: 99.23 %\n"
     ]
    },
    {
     "name": "stdout",
     "output_type": "stream",
     "text": [
      "avg_update_SNR: 0.001409\n",
      "[epoch: 75, CU] loss: 0.005  accuracy: 1.000\n",
      "Accuracy for 10,000 test images: 99.24 %\n",
      "avg_update_SNR: 0.001394\n",
      "[epoch: 76, CU] loss: 0.005  accuracy: 1.000\n",
      "Accuracy for 10,000 test images: 99.23 %\n",
      "avg_update_SNR: 0.001379\n",
      "[epoch: 77, CU] loss: 0.005  accuracy: 1.000\n",
      "Accuracy for 10,000 test images: 99.24 %\n",
      "avg_update_SNR: 0.001364\n",
      "[epoch: 78, CU] loss: 0.005  accuracy: 1.000\n",
      "Accuracy for 10,000 test images: 99.24 %\n",
      "avg_update_SNR: 0.001348\n",
      "[epoch: 79, CU] loss: 0.004  accuracy: 1.000\n",
      "Accuracy for 10,000 test images: 99.24 %\n",
      "avg_update_SNR: 0.001332\n",
      "[epoch: 80, CU] loss: 0.004  accuracy: 1.000\n",
      "Accuracy for 10,000 test images: 99.24 %\n",
      "avg_update_SNR: 0.001317\n",
      "[epoch: 81, CU] loss: 0.004  accuracy: 1.000\n",
      "Accuracy for 10,000 test images: 99.24 %\n",
      "avg_update_SNR: 0.001301\n",
      "[epoch: 82, CU] loss: 0.004  accuracy: 1.000\n",
      "Accuracy for 10,000 test images: 99.24 %\n",
      "avg_update_SNR: 0.001285\n",
      "[epoch: 83, CU] loss: 0.004  accuracy: 1.000\n",
      "Accuracy for 10,000 test images: 99.24 %\n",
      "avg_update_SNR: 0.001269\n",
      "[epoch: 84, CU] loss: 0.004  accuracy: 1.000\n",
      "Accuracy for 10,000 test images: 99.25 %\n",
      "avg_update_SNR: 0.001254\n",
      "[epoch: 85, CU] loss: 0.004  accuracy: 1.000\n",
      "Accuracy for 10,000 test images: 99.25 %\n",
      "avg_update_SNR: 0.001238\n",
      "[epoch: 86, CU] loss: 0.004  accuracy: 1.000\n",
      "Accuracy for 10,000 test images: 99.25 %\n",
      "avg_update_SNR: 0.001222\n",
      "[epoch: 87, CU] loss: 0.004  accuracy: 1.000\n",
      "Accuracy for 10,000 test images: 99.25 %\n",
      "avg_update_SNR: 0.001206\n",
      "[epoch: 88, CU] loss: 0.004  accuracy: 1.000\n",
      "Accuracy for 10,000 test images: 99.25 %\n",
      "avg_update_SNR: 0.001190\n",
      "[epoch: 89, CU] loss: 0.004  accuracy: 1.000\n",
      "Accuracy for 10,000 test images: 99.25 %\n",
      "avg_update_SNR: 0.001175\n",
      "[epoch: 90, CU] loss: 0.004  accuracy: 1.000\n",
      "Accuracy for 10,000 test images: 99.25 %\n",
      "avg_update_SNR: 0.001159\n",
      "[epoch: 91, CU] loss: 0.004  accuracy: 1.000\n",
      "Accuracy for 10,000 test images: 99.25 %\n",
      "avg_update_SNR: 0.001144\n",
      "[epoch: 92, CU] loss: 0.004  accuracy: 1.000\n",
      "Accuracy for 10,000 test images: 99.25 %\n",
      "avg_update_SNR: 0.001128\n",
      "[epoch: 93, CU] loss: 0.004  accuracy: 1.000\n",
      "Accuracy for 10,000 test images: 99.25 %\n",
      "avg_update_SNR: 0.001113\n",
      "[epoch: 94, CU] loss: 0.004  accuracy: 1.000\n",
      "Accuracy for 10,000 test images: 99.25 %\n",
      "avg_update_SNR: 0.001098\n",
      "[epoch: 95, CU] loss: 0.004  accuracy: 1.000\n",
      "Accuracy for 10,000 test images: 99.25 %\n",
      "avg_update_SNR: 0.001082\n",
      "[epoch: 96, CU] loss: 0.004  accuracy: 1.000\n",
      "Accuracy for 10,000 test images: 99.25 %\n",
      "avg_update_SNR: 0.001068\n",
      "[epoch: 97, CU] loss: 0.004  accuracy: 1.000\n",
      "Accuracy for 10,000 test images: 99.25 %\n",
      "avg_update_SNR: 0.001053\n",
      "[epoch: 98, CU] loss: 0.004  accuracy: 1.000\n",
      "Accuracy for 10,000 test images: 99.25 %\n",
      "avg_update_SNR: 0.001039\n",
      "[epoch: 99, CU] loss: 0.004  accuracy: 1.000\n",
      "Accuracy for 10,000 test images: 99.25 %\n",
      "avg_update_SNR: 0.001024\n",
      "[epoch: 100, CU] loss: 0.004  accuracy: 1.000\n",
      "Accuracy for 10,000 test images: 99.25 %\n",
      "Finished Training\n"
     ]
    }
   ],
   "source": [
    "net_diff = Net()\n",
    "net_diff.to(device)   # Storing network update\n",
    "train_acc_history = np.zeros(epoch_max)\n",
    "update_rho_history = np.zeros(epoch_max)\n",
    "\n",
    "for epoch in range(epoch_max):  # loop over the dataset multiple times    \n",
    "    ##################### Wireless Channel ###########################\n",
    "    H_pow = pathloss.reshape(dev_num, 1)*np.random.exponential(1, (dev_num, B*N))    # Channel power gains, dev_num x BN\n",
    "    \n",
    "    ########## Update at the central unit #########\n",
    "    with torch.no_grad():   # Reset update\n",
    "        for param_diff in net_diff.parameters():\n",
    "            param_diff = torch.zeros_like(param_diff)\n",
    "    \n",
    "    inputs, labels = CU_x.to(device), torch.tensor(CU_y, dtype=torch.long).to(device)\n",
    "    net_CU, running_loss_CU, acc_CU = model_localupdate(inputs, labels, net, E, batch_local, samples_CU, lr)\n",
    "    \n",
    "    idx_s = 0\n",
    "    sum_update_pow = 0.0\n",
    "    with torch.no_grad():\n",
    "        for param_diff, param_org, param_CU in zip(net_diff.parameters(), net.parameters(), net_CU.parameters()):\n",
    "            param_diff = param_CU-param_org\n",
    "            param_org += param_diff*(samples_CU/samples_global)\n",
    "            sum_update_pow += torch.sum(param_diff*param_diff).item()\n",
    "            idx_s += param_org.numel()\n",
    "       \n",
    "    rho = sum_update_pow/D\n",
    "    print('avg_update_SNR: %f' % (rho/noise_pow))\n",
    "            \n",
    "    total = samples_CU*E\n",
    "    print('[epoch: %d, CU] loss: %.3f  accuracy: %.3f' % (epoch + 1, running_loss_CU, acc_CU/total))   \n",
    "    \n",
    "    \n",
    "    correct = 0\n",
    "    total = 0\n",
    "    with torch.no_grad():\n",
    "        for data in testloader:\n",
    "            images_tmp, labels = data\n",
    "            images = images_tmp.to(device)\n",
    "            outputs = net(images)\n",
    "            _, predicted = torch.max(outputs.data, 1)\n",
    "            total += labels.size(0)\n",
    "            correct += (predicted.cpu() == labels).sum().item()\n",
    "    \n",
    "    update_rho_history[epoch] = rho\n",
    "    train_acc_history[epoch] = correct / total\n",
    "    print('Accuracy for 10,000 test images: %.2f %%' % (100.0 * train_acc_history[epoch]))\n",
    "    \n",
    "print('Finished Training')"
   ]
  },
  {
   "cell_type": "code",
   "execution_count": 18,
   "metadata": {
    "ExecuteTime": {
     "end_time": "2021-09-09T11:30:21.794975Z",
     "start_time": "2021-09-09T11:30:21.737138Z"
    }
   },
   "outputs": [
    {
     "name": "stdout",
     "output_type": "stream",
     "text": [
      "./results/Simulation_Env/[2021-09-09]SimEnv_Central_Acc0.9925Dmax0Dens0.0003CU50000.npz is saved\n",
      "./results/Network/[2021-09-09]Net_Central_Acc0.9925Dmax0Dens0.0003CU50000.pth.pth is saved\n",
      "./results/Accuracy/[2021-09-09]Acc_Central_Acc0.9925Dmax0Dens0.0003CU50000.npy is saved\n",
      "./results/RHO/[2021-09-09]RHO_Central_Acc0.9925Dmax0Dens0.0003CU50000.npy is saved\n"
     ]
    }
   ],
   "source": [
    "from datetime import date\n",
    "Date = '['+str(date.today())+']'\n",
    "PATH_SIM = './results/Simulation_Env/'+Date+'SimEnv_Central_Acc'+str(correct/total)+'Dmax'+str(cell_radius)+'Dens%.4f'%(density)+'CU'+str(samples_CU)   # save simulation environment\n",
    "PATH_NET = './results/Network/'+Date+'Net_Central_Acc'+str(correct/total)+'Dmax'+str(cell_radius)+'Dens%.4f'%(density)+'CU'+str(samples_CU)+'.pth'   # save neural network\n",
    "PATH_ACC = './results/Accuracy/'+Date+'Acc_Central_Acc'+str(correct/total)+'Dmax'+str(cell_radius)+'Dens%.4f'%(density)+'CU'+str(samples_CU)   # save accuracy history\n",
    "PATH_RHO = './results/RHO/'+Date+'RHO_Central_Acc'+str(correct/total)+'Dmax'+str(cell_radius)+'Dens%.4f'%(density)+'CU'+str(samples_CU)   # save SNR history\n",
    "\n",
    "np.savez(PATH_SIM, lr=lr, batch_local=batch_local, E=E, epoch_max=epoch_max, D=D, noise_pow_dBm=noise_pow_dBm, P_dBm=P_dBm, gamma=gamma, B=B, N=N, cell_radius=cell_radius, density=density, dev_num=dev_num, pathloss_exponent=pathloss_exponent, num_classes=num_classes, samples_avg_local=samples_avg_local, samples_local=samples_local, samples_CU=samples_CU)\n",
    "print(PATH_SIM+'.npz is saved')\n",
    "torch.save(net.state_dict(), PATH_NET)\n",
    "print(PATH_NET+'.pth is saved')\n",
    "np.save(PATH_ACC, train_acc_history)\n",
    "print(PATH_ACC+'.npy is saved')\n",
    "np.save(PATH_RHO, update_rho_history)\n",
    "print(PATH_RHO+'.npy is saved')"
   ]
  },
  {
   "cell_type": "code",
   "execution_count": 13,
   "metadata": {
    "ExecuteTime": {
     "end_time": "2021-09-09T09:25:25.850660Z",
     "start_time": "2021-09-09T09:25:25.491621Z"
    }
   },
   "outputs": [
    {
     "data": {
      "image/png": "[encoded data removed]",
      "text/plain": [
       "<Figure size 432x288 with 1 Axes>"
      ]
     },
     "metadata": {
      "needs_background": "light"
     },
     "output_type": "display_data"
    },
    {
     "data": {
      "image/png": "[encoded data removed]",
      "text/plain": [
       "<Figure size 432x288 with 1 Axes>"
      ]
     },
     "metadata": {
      "needs_background": "light"
     },
     "output_type": "display_data"
    }
   ],
   "source": [
    "train_acc_history = np.load(PATH_ACC+'.npy')\n",
    "plt.plot(np.arange(epoch_max), train_acc_history)\n",
    "plt.xlabel('Epoch')\n",
    "plt.ylabel('Test Accuracy')\n",
    "plt.show()\n",
    "\n",
    "update_rho_history = np.load(PATH_RHO+'.npy')\n",
    "plt.plot(np.arange(epoch_max), 10*np.log10(update_rho_history/noise_pow))\n",
    "plt.xlabel('Epoch')\n",
    "plt.ylabel('Update SNR [dB]')\n",
    "plt.show()"
   ]
  },
  {
   "cell_type": "code",
   "execution_count": 14,
   "metadata": {
    "ExecuteTime": {
     "end_time": "2021-09-09T09:25:25.880580Z",
     "start_time": "2021-09-09T09:25:25.851657Z"
    }
   },
   "outputs": [],
   "source": [
    "net = Net()\n",
    "net.load_state_dict(torch.load(PATH_NET))\n",
    "outputs = net(images.cpu())"
   ]
  },
  {
   "cell_type": "code",
   "execution_count": 15,
   "metadata": {
    "ExecuteTime": {
     "end_time": "2021-09-09T09:25:29.882872Z",
     "start_time": "2021-09-09T09:25:25.882575Z"
    }
   },
   "outputs": [
    {
     "name": "stdout",
     "output_type": "stream",
     "text": [
      "Accuracy of the network on the 10000 test images: 99.25 %\n"
     ]
    }
   ],
   "source": [
    "correct = 0\n",
    "total = 0\n",
    "with torch.no_grad():\n",
    "    for data in testloader:\n",
    "        images, labels = data\n",
    "        outputs = net(images)\n",
    "        _, predicted = torch.max(outputs.data, 1)\n",
    "        total += labels.size(0)\n",
    "        correct += (predicted == labels).sum().item()\n",
    "\n",
    "print('Accuracy of the network on the 10000 test images: %.2f %%' % (100.0 * correct / total))"
   ]
  },
  {
   "cell_type": "code",
   "execution_count": 16,
   "metadata": {
    "ExecuteTime": {
     "end_time": "2021-09-09T09:25:34.017810Z",
     "start_time": "2021-09-09T09:25:29.884867Z"
    }
   },
   "outputs": [
    {
     "name": "stdout",
     "output_type": "stream",
     "text": [
      "Accuracy of 0 : 99.90 %\n",
      "Accuracy of 1 : 99.65 %\n",
      "Accuracy of 2 : 99.42 %\n",
      "Accuracy of 3 : 99.21 %\n",
      "Accuracy of 4 : 99.59 %\n",
      "Accuracy of 5 : 98.88 %\n",
      "Accuracy of 6 : 98.75 %\n",
      "Accuracy of 7 : 99.22 %\n",
      "Accuracy of 8 : 98.97 %\n",
      "Accuracy of 9 : 98.81 %\n"
     ]
    }
   ],
   "source": [
    "class_correct = list(0. for i in range(10))\n",
    "class_total = list(0. for i in range(10))\n",
    "with torch.no_grad():\n",
    "    for data in testloader:\n",
    "        images, labels = data\n",
    "        outputs = net(images)\n",
    "        _, predicted = torch.max(outputs, 1)\n",
    "        c = (predicted == labels)\n",
    "        for i in range(labels.size(0)):\n",
    "            label = labels[i]\n",
    "            class_correct[label] += c[i].item()\n",
    "            class_total[label] += 1\n",
    "\n",
    "for i in range(10):\n",
    "    print('Accuracy of %d : %.2f %%' % (classes[i], 100 * class_correct[i] / class_total[i]))"
   ]
  },
  {
   "cell_type": "code",
   "execution_count": 17,
   "metadata": {
    "ExecuteTime": {
     "end_time": "2021-09-09T09:25:34.182371Z",
     "start_time": "2021-09-09T09:25:34.019804Z"
    }
   },
   "outputs": [
    {
     "name": "stdout",
     "output_type": "stream",
     "text": [
      "Number of total devices:  0\n"
     ]
    },
    {
     "ename": "IndexError",
     "evalue": "index -1 is out of bounds for axis 0 with size 0",
     "output_type": "error",
     "traceback": [
      "\u001b[1;31m---------------------------------------------------------------------------\u001b[0m",
      "\u001b[1;31mIndexError\u001b[0m                                Traceback (most recent call last)",
      "\u001b[1;32m<ipython-input-17-c1f9830a16c7>\u001b[0m in \u001b[0;36m<module>\u001b[1;34m\u001b[0m\n\u001b[0;32m      1\u001b[0m \u001b[0mprint\u001b[0m\u001b[1;33m(\u001b[0m\u001b[1;34m'Number of total devices: '\u001b[0m\u001b[1;33m,\u001b[0m \u001b[0mdev_num\u001b[0m\u001b[1;33m)\u001b[0m\u001b[1;33m\u001b[0m\u001b[1;33m\u001b[0m\u001b[0m\n\u001b[1;32m----> 2\u001b[1;33m \u001b[0mprint\u001b[0m\u001b[1;33m(\u001b[0m\u001b[1;34m'Distance of device %d: '\u001b[0m\u001b[1;33m%\u001b[0m\u001b[1;33m(\u001b[0m\u001b[0mdev_num\u001b[0m\u001b[1;33m-\u001b[0m\u001b[1;36m1\u001b[0m\u001b[1;33m)\u001b[0m\u001b[1;33m,\u001b[0m \u001b[0mdev_dist\u001b[0m\u001b[1;33m[\u001b[0m\u001b[0mdev_num\u001b[0m\u001b[1;33m-\u001b[0m\u001b[1;36m1\u001b[0m\u001b[1;33m]\u001b[0m\u001b[1;33m)\u001b[0m\u001b[1;33m\u001b[0m\u001b[1;33m\u001b[0m\u001b[0m\n\u001b[0m\u001b[0;32m      3\u001b[0m \u001b[0mprint\u001b[0m\u001b[1;33m(\u001b[0m\u001b[1;34m'Probability of the utilized sub-channels: '\u001b[0m\u001b[1;33m,\u001b[0m \u001b[0mnp\u001b[0m\u001b[1;33m.\u001b[0m\u001b[0msum\u001b[0m\u001b[1;33m(\u001b[0m\u001b[0mP_alloc\u001b[0m\u001b[1;33m>\u001b[0m\u001b[1;36m0\u001b[0m\u001b[1;33m)\u001b[0m\u001b[1;33m/\u001b[0m\u001b[0mD\u001b[0m\u001b[1;33m)\u001b[0m\u001b[1;33m\u001b[0m\u001b[1;33m\u001b[0m\u001b[0m\n\u001b[0;32m      4\u001b[0m \u001b[0mprint\u001b[0m\u001b[1;33m(\u001b[0m\u001b[1;34m'Remaining powers of device %d N symbols : '\u001b[0m\u001b[1;33m%\u001b[0m\u001b[1;33m(\u001b[0m\u001b[0mdev_num\u001b[0m\u001b[1;33m-\u001b[0m\u001b[1;36m1\u001b[0m\u001b[1;33m)\u001b[0m\u001b[1;33m,\u001b[0m \u001b[0mP\u001b[0m\u001b[1;33m-\u001b[0m\u001b[0mnp\u001b[0m\u001b[1;33m.\u001b[0m\u001b[0msum\u001b[0m\u001b[1;33m(\u001b[0m\u001b[0mP_alloc\u001b[0m\u001b[1;33m)\u001b[0m\u001b[1;33m/\u001b[0m\u001b[0mN\u001b[0m\u001b[1;33m)\u001b[0m\u001b[1;33m\u001b[0m\u001b[1;33m\u001b[0m\u001b[0m\n",
      "\u001b[1;31mIndexError\u001b[0m: index -1 is out of bounds for axis 0 with size 0"
     ]
    }
   ],
   "source": [
    "print('Number of total devices: ', dev_num)\n",
    "print('Distance of device %d: '%(dev_num-1), dev_dist[dev_num-1])\n",
    "print('Probability of the utilized sub-channels: ', np.sum(P_alloc>0)/D)\n",
    "print('Remaining powers of device %d N symbols : '%(dev_num-1), P-np.sum(P_alloc)/N)"
   ]
  },
  {
   "cell_type": "code",
   "execution_count": null,
   "metadata": {
    "ExecuteTime": {
     "end_time": "2021-09-09T09:25:34.195334Z",
     "start_time": "2021-09-09T08:40:54.038Z"
    }
   },
   "outputs": [],
   "source": [
    "tmp = list(net_diff.parameters())\n",
    "\n",
    "params = np.array([])\n",
    "for i in range(len(tmp)):\n",
    "    params = np.append(params, tmp[i].cpu().detach().numpy().reshape(-1))\n",
    "    \n",
    "print(params.shape)\n",
    "\n",
    "max_param = np.max(params*params)\n",
    "min_param = np.min(params*params)\n",
    "bins = np.linspace(min_param, max_param, num=100)\n",
    "\n",
    "_ =plt.hist(params*params, bins=bins)\n",
    "\n",
    "\n",
    "tmp_idx = np.random.permutation(params.shape[0])\n",
    "samples_idx = tmp_idx[0:1024]\n",
    "samples = params[samples_idx]"
   ]
  },
  {
   "cell_type": "code",
   "execution_count": null,
   "metadata": {
    "ExecuteTime": {
     "end_time": "2021-09-09T09:25:34.196332Z",
     "start_time": "2021-09-09T08:40:54.040Z"
    }
   },
   "outputs": [],
   "source": [
    "tmp_idx = np.random.permutation(params.shape[0])\n",
    "samples_idx = tmp_idx[0:1024]\n",
    "#samples_idx = np.arange(0,1024,1)\n",
    "samples = params[samples_idx]\n",
    "pows = samples*samples\n",
    "\n",
    "max_param = np.max(pows)\n",
    "min_param = np.min(pows)\n",
    "bins = np.linspace(min_param, max_param, num=100)\n",
    "\n",
    "count = plt.hist(pows, bins=bins)\n",
    "\n",
    "mean_pow = np.mean(pows)\n",
    "y=count[0][0]*np.exp(-bins/mean_pow)\n",
    "plt.plot(bins, y)\n",
    "\n",
    "print(mean_pow)"
   ]
  },
  {
   "cell_type": "code",
   "execution_count": null,
   "metadata": {
    "ExecuteTime": {
     "end_time": "2021-09-09T09:25:34.197329Z",
     "start_time": "2021-09-09T08:40:54.041Z"
    }
   },
   "outputs": [],
   "source": [
    "np.sum((X**2).reshape(N, B), axis=1)"
   ]
  },
  {
   "cell_type": "code",
   "execution_count": null,
   "metadata": {},
   "outputs": [],
   "source": []
  }
 ],
 "metadata": {
  "hide_input": false,
  "kernelspec": {
   "display_name": "PyTorch",
   "language": "python",
   "name": "pythorch"
  },
  "language_info": {
   "codemirror_mode": {
    "name": "ipython",
    "version": 3
   },
   "file_extension": ".py",
   "mimetype": "text/x-python",
   "name": "python",
   "nbconvert_exporter": "python",
   "pygments_lexer": "ipython3",
   "version": "3.6.13"
  },
  "toc": {
   "base_numbering": 1,
   "nav_menu": {},
   "number_sections": true,
   "sideBar": true,
   "skip_h1_title": false,
   "title_cell": "Table of Contents",
   "title_sidebar": "Contents",
   "toc_cell": false,
   "toc_position": {},
   "toc_section_display": true,
   "toc_window_display": false
  },
  "varInspector": {
   "cols": {
    "lenName": 16,
    "lenType": 16,
    "lenVar": 40
   },
   "kernels_config": {
    "python": {
     "delete_cmd_postfix": "",
     "delete_cmd_prefix": "del ",
     "library": "var_list.py",
     "varRefreshCmd": "print(var_dic_list())"
    },
    "r": {
     "delete_cmd_postfix": ") ",
     "delete_cmd_prefix": "rm(",
     "library": "var_list.r",
     "varRefreshCmd": "cat(var_dic_list()) "
    }
   },
   "types_to_exclude": [
    "module",
    "function",
    "builtin_function_or_method",
    "instance",
    "_Feature"
   ],
   "window_display": false
  }
 },
 "nbformat": 4,
 "nbformat_minor": 2
}
