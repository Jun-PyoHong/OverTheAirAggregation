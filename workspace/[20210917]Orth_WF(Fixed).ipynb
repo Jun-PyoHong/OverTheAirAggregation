{
 "cells": [
  {
   "cell_type": "markdown",
   "metadata": {},
   "source": [
    "## Simulation Environments (last updated 21.04.27)\n",
    "- CU with local dataset\n",
    "- **Local dataset**: Unbalanced (3 classes/local dataset), Non-i.i.d., non-overapped samples\n",
    "- **Channel**: Pathloss + Rayleigh fading\n",
    "- **Power Allocation**: Waterfilling Power Allocation\n",
    "- **Transmission type**: Analog Transmission with Orthogonal sub-channel allocation\n",
    "- **Fixed device deployment** and **Fixed local dataset**\n",
    "\n",
    "- CU and deivces have the same weight for the model update"
   ]
  },
  {
   "cell_type": "code",
   "execution_count": 1,
   "metadata": {
    "ExecuteTime": {
     "end_time": "2022-01-06T08:14:16.962321Z",
     "start_time": "2022-01-06T08:14:16.947360Z"
    }
   },
   "outputs": [],
   "source": [
    "import sys, os\n",
    "#sys.path.append('/workspace/shared/')"
   ]
  },
  {
   "cell_type": "code",
   "execution_count": 2,
   "metadata": {
    "ExecuteTime": {
     "end_time": "2022-01-06T08:14:18.264001Z",
     "start_time": "2022-01-06T08:14:16.970296Z"
    },
    "scrolled": false
   },
   "outputs": [
    {
     "name": "stdout",
     "output_type": "stream",
     "text": [
      "cuda:0\n"
     ]
    }
   ],
   "source": [
    "import copy\n",
    "import torch\n",
    "import torchvision\n",
    "import torchvision.transforms as transforms\n",
    "import matplotlib.pyplot as plt\n",
    "import numpy as np\n",
    "import torch.nn as nn\n",
    "import torch.nn.functional as F\n",
    "import math\n",
    "import random\n",
    "\n",
    "device = torch.device(\"cuda:0\" if torch.cuda.is_available() else \"cpu\")\n",
    "print(device)"
   ]
  },
  {
   "cell_type": "code",
   "execution_count": 3,
   "metadata": {
    "ExecuteTime": {
     "end_time": "2022-01-06T08:14:23.339649Z",
     "start_time": "2022-01-06T08:14:18.266992Z"
    },
    "scrolled": true
   },
   "outputs": [
    {
     "data": {
      "text/plain": [
       "Net(\n",
       "  (conv1): Conv2d(1, 32, kernel_size=(5, 5), stride=(1, 1))\n",
       "  (pool): MaxPool2d(kernel_size=2, stride=2, padding=0, dilation=1, ceil_mode=False)\n",
       "  (conv2): Conv2d(32, 64, kernel_size=(5, 5), stride=(1, 1))\n",
       "  (fc1): Linear(in_features=1024, out_features=512, bias=True)\n",
       "  (fc2): Linear(in_features=512, out_features=10, bias=True)\n",
       ")"
      ]
     },
     "execution_count": 3,
     "metadata": {},
     "output_type": "execute_result"
    }
   ],
   "source": [
    "class Net(nn.Module):\n",
    "    def __init__(self):\n",
    "        super(Net, self).__init__()\n",
    "        self.conv1 = nn.Conv2d(1, 32, 5)\n",
    "        self.pool = nn.MaxPool2d(2, 2)\n",
    "        self.conv2 = nn.Conv2d(32, 64, 5)\n",
    "        self.fc1 = nn.Linear(64 * 4 * 4, 512)\n",
    "        self.fc2 = nn.Linear(512, 10)\n",
    "\n",
    "    def forward(self, x):\n",
    "        #x = self.pool(F.relu(self.conv1(x)))\n",
    "        x = self.pool(torch.tanh(self.conv1(x)))\n",
    "        #x = self.pool(F.relu(self.conv2(x)))        \n",
    "        x = self.pool(torch.tanh(self.conv2(x)))\n",
    "        x = x.view(-1, 64 * 4 * 4)\n",
    "        #x = F.relu(self.fc1(x))\n",
    "        x = torch.tanh(self.fc1(x))\n",
    "        x = self.fc2(x)\n",
    "        return x\n",
    "\n",
    "net = Net()\n",
    "net.to(device)"
   ]
  },
  {
   "cell_type": "markdown",
   "metadata": {},
   "source": [
    "### Default Setup *(Do not modify)*"
   ]
  },
  {
   "cell_type": "code",
   "execution_count": 4,
   "metadata": {
    "ExecuteTime": {
     "end_time": "2022-01-06T08:14:23.354579Z",
     "start_time": "2022-01-06T08:14:23.341613Z"
    },
    "scrolled": true
   },
   "outputs": [],
   "source": [
    "lr = 0.1   # 0.1\n",
    "batch_local = 10   # Size of local minibatch\n",
    "E = 3 #3  # Local training epoch\n",
    "epoch_max = 300\n",
    "D = sum( p.numel() for p in net.parameters() if p.requires_grad)   # Number of parameters in model, 582,026 \n",
    "\n",
    "noise_pow_dBm = -50 #-100\n",
    "P_dBm = 20  #20\n",
    "gamma = 0.1  # Target received SNR\n",
    "\n",
    "B = 1024    # Number of subcarrier\n",
    "\n",
    "cell_radius = 400   # Distance to the farthest devices\n",
    "density = 250/(np.pi*500**2)   # 200 devices within 500m in average\n",
    "pathloss_exponent = 4\n",
    "\n",
    "num_classes = 3   # Number of classes in local dataset\n",
    "samples_avg_local = 200   # Average number of local samples\n",
    "samples_CU = samples_avg_local   # Average number of samples at CU\n",
    "\n",
    "regul_coeff = 10e-5   # L2 regularization parameter for avoding overfitting\n",
    "#init_E = E   # Pre-training epoch"
   ]
  },
  {
   "cell_type": "markdown",
   "metadata": {},
   "source": [
    "### Variations in Setup *(Adjustable)*"
   ]
  },
  {
   "cell_type": "code",
   "execution_count": null,
   "metadata": {
    "ExecuteTime": {
     "end_time": "2021-05-11T08:18:14.776388Z",
     "start_time": "2021-05-11T08:18:14.671114Z"
    },
    "scrolled": true
   },
   "outputs": [],
   "source": []
  },
  {
   "cell_type": "markdown",
   "metadata": {},
   "source": [
    "### Load Simulation Setups"
   ]
  },
  {
   "cell_type": "code",
   "execution_count": 5,
   "metadata": {
    "ExecuteTime": {
     "end_time": "2022-01-06T08:14:23.534333Z",
     "start_time": "2022-01-06T08:14:23.356572Z"
    },
    "scrolled": true
   },
   "outputs": [],
   "source": [
    "PATH_DEPLOYMENT = '../shared/simulation_setups/Deployment_within_550.npy'\n",
    "PATH_TRAIN_DATASET = '../shared/simulation_setups/train_dataset.pth'\n",
    "PATH_LOCAL_DATASET = '../shared/simulation_setups/localdataset_within_550.npy'\n",
    "\n",
    "dev_deployment = np.load(PATH_DEPLOYMENT)        # Deployment of devices within 550 meters\n",
    "trainset = torch.load(PATH_TRAIN_DATASET)         # Load training data and labels\n",
    "x, y = trainset.values()\n",
    "idx_localDB = np.load(PATH_LOCAL_DATASET, allow_pickle=True)        # Classified data indices"
   ]
  },
  {
   "cell_type": "markdown",
   "metadata": {},
   "source": [
    "### Subordinate System Parameters *(Do not modify)*"
   ]
  },
  {
   "cell_type": "code",
   "execution_count": 6,
   "metadata": {
    "ExecuteTime": {
     "end_time": "2022-01-06T08:14:23.639349Z",
     "start_time": "2022-01-06T08:14:23.535334Z"
    },
    "scrolled": true
   },
   "outputs": [
    {
     "name": "stdout",
     "output_type": "stream",
     "text": [
      "Number of participating devices:  169\n",
      "Number of utilized samples: 33989\n",
      "Link distances:  [22.83855181 34.12266929 41.28552959 42.75910894 59.44096671]\n",
      "Pathloss:  [3.67557892e-06 7.37612065e-07 3.44198173e-07 2.99147525e-07\n",
      " 8.01044318e-08]\n"
     ]
    }
   ],
   "source": [
    "noise_pow = 10**(noise_pow_dBm/10)\n",
    "P = 10**(P_dBm/10)\n",
    "N = int(np.ceil(D/B))   # Number of transmit symbols\n",
    "dev_num = np.sum((np.linalg.norm(dev_deployment, axis=1)<cell_radius))   # Number of devices\n",
    "samples_local = [ len(idx_localDB[i]) for i in range(dev_num)]     # Number of samples at devices\n",
    "samples_global = samples_CU+np.sum(samples_local)\n",
    "print('Number of participating devices: ', dev_num)\n",
    "print('Number of utilized samples:', samples_global)\n",
    "\n",
    "dev_dist = np.linalg.norm(dev_deployment[:dev_num], axis=1)\n",
    "pathloss = dev_dist**-pathloss_exponent\n",
    "print('Link distances: ', dev_dist[0:5])\n",
    "print('Pathloss: ', pathloss[0:5])\n",
    "\n",
    "permute_idx = np.random.permutation(B*N)\n",
    "permute_idx_inv = np.argsort(permute_idx)"
   ]
  },
  {
   "cell_type": "code",
   "execution_count": 7,
   "metadata": {
    "ExecuteTime": {
     "end_time": "2022-01-06T08:14:23.669238Z",
     "start_time": "2022-01-06T08:14:23.641316Z"
    },
    "scrolled": true
   },
   "outputs": [],
   "source": [
    "########### Data classification ##############\n",
    "idx = []   # Empty list\n",
    "for i in range(10):\n",
    "    tmp = list((y==i).nonzero()[0])\n",
    "    idx.append(tmp)\n",
    "    \n",
    "############ CU dataset ############\n",
    "CU_x = torch.zeros(samples_CU,1, 28, 28)\n",
    "CU_y = np.zeros(samples_CU, dtype=int)\n",
    "CU_dataset = []\n",
    "for i in range(10):\n",
    "    CU_dataset += idx[i][:int(samples_CU/10)]\n",
    "random.shuffle(CU_dataset)\n",
    "    \n",
    "for i, idx_CU in enumerate(CU_dataset):\n",
    "    CU_x[i], CU_y[i] = x[idx_CU], y[idx_CU]\n",
    "\n",
    "################### Test dataset ##################\n",
    "transform = transforms.Compose([transforms.ToTensor(), transforms.Normalize((0.5,), (0.5,))])\n",
    "testset = torchvision.datasets.MNIST(root='../shared/MNIST_dataset/', train=False, download=True, transform=transform)\n",
    "testloader = torch.utils.data.DataLoader(testset, batch_size=10, shuffle=False, num_workers=3)\n",
    "\n",
    "classes = (0, 1, 2, 3, 4, 5, 6, 7, 8, 9)"
   ]
  },
  {
   "cell_type": "code",
   "execution_count": 8,
   "metadata": {
    "ExecuteTime": {
     "end_time": "2022-01-06T08:14:23.908599Z",
     "start_time": "2022-01-06T08:14:23.675224Z"
    },
    "scrolled": true
   },
   "outputs": [
    {
     "data": {
      "image/png": "[encoded data removed]",
      "text/plain": [
       "<Figure size 432x288 with 1 Axes>"
      ]
     },
     "metadata": {
      "needs_background": "light"
     },
     "output_type": "display_data"
    },
    {
     "name": "stdout",
     "output_type": "stream",
     "text": [
      "2, 4, 2, 4, 4, 4, 2, 4, 2, 2, 4, 8, 2, 8,\n"
     ]
    }
   ],
   "source": [
    "# functions to show an image\n",
    "def imshow(img):\n",
    "    img = img / 2 + 0.5     # unnormalize\n",
    "    npimg = img.numpy()\n",
    "    plt.imshow(np.transpose(npimg, (1, 2, 0)))\n",
    "    plt.show()\n",
    "\n",
    "images = x[idx_localDB[0]]\n",
    "labels = y[idx_localDB[0]]\n",
    "\n",
    "# show images\n",
    "first_row = int(np.sqrt(samples_local[0]))\n",
    "imshow(torchvision.utils.make_grid(images, nrow=first_row))\n",
    "# print labels\n",
    "print(' '.join('%d,' % classes[labels[j]] for j in range(int(first_row))))"
   ]
  },
  {
   "cell_type": "code",
   "execution_count": 9,
   "metadata": {
    "ExecuteTime": {
     "end_time": "2022-01-06T08:14:23.938520Z",
     "start_time": "2022-01-06T08:14:23.911591Z"
    },
    "scrolled": true
   },
   "outputs": [],
   "source": [
    "def model_localupdate(inputs, labels, net_org, E, batch_local, samples_local, lr):\n",
    "    criterion = nn.CrossEntropyLoss()\n",
    "    running_loss_local = 0.0\n",
    "    acc_local = 0.0\n",
    "    net_local = copy.deepcopy(net_org)   # deep copy of the network\n",
    "    for _ in range(E):   # Local training epoch\n",
    "        for b in range(int(np.ceil(samples_local/batch_local))):\n",
    "            \n",
    "            L2_reg = torch.tensor(0., requires_grad=True).to(device)\n",
    "            for param in net_local.parameters():\n",
    "                L2_reg = L2_reg + torch.norm(param, 2)\n",
    "            \n",
    "            start_idx = b*batch_local\n",
    "            end_idx = b*batch_local+np.min([batch_local, samples_local-b*batch_local])\n",
    "            outputs = net_local(inputs[start_idx:end_idx])\n",
    "            loss = criterion(outputs, labels[start_idx:end_idx]) + regul_coeff*L2_reg   # 10e-4 L2-Regularization to prevent overfitting \n",
    "            net_local.zero_grad()\n",
    "            loss.backward()\n",
    "            \n",
    "            if math.isnan(loss.item()): # Catch error\n",
    "                print(\"outputs\", outputs)\n",
    "                print(\"inputs\", inputs[start_idx:end_idx])\n",
    "                w_sum = 0\n",
    "                for i in net_local.parameters():\n",
    "                    w_sum+=torch.sum(i)\n",
    "                print('Sum of parameters: ', w_sum.item())\n",
    "                ErrorOccur = input(\"Nan appears\")\n",
    "            \n",
    "            with torch.no_grad():\n",
    "                running_loss_local += loss.item()/(samples_local/batch_local)/E\n",
    "                _, predicted = torch.max(outputs.data, 1)\n",
    "                acc_local += (predicted == labels[start_idx:end_idx]).sum().item()\n",
    "                for param_local in net_local.parameters():\n",
    "                    param_local -= lr*param_local.grad\n",
    "                    if math.isnan(torch.sum(param_local).item()):   # Catch error\n",
    "                        print(param_local)\n",
    "                        ErrorOccur = input(\"Nan appears\")\n",
    "                        \n",
    "    return net_local, running_loss_local, acc_local      "
   ]
  },
  {
   "cell_type": "code",
   "execution_count": 10,
   "metadata": {
    "ExecuteTime": {
     "end_time": "2022-01-06T08:14:23.953479Z",
     "start_time": "2022-01-06T08:14:23.940514Z"
    },
    "scrolled": true
   },
   "outputs": [],
   "source": [
    "def power_allocation(gamma, noise_pow, P, N, B, delta, h_pow, rho, samples_local, samples_global):\n",
    "    delta_pow_2d = (delta**2).reshape((N, B))   # (N, B)\n",
    "            \n",
    "    g = (1/h_pow).reshape((N,B))    \n",
    "    w = samples_local/samples_global\n",
    "    u = (gamma*noise_pow/rho) * g * w**2   # (N, B)\n",
    "    c_init = np.max(delta**2)/(np.min(u))\n",
    "            \n",
    "    v = 1.0*delta_pow_2d   #(N,B)\n",
    "    WF_idx = np.nonzero(1.0*(np.sum(u*delta_pow_2d, axis=1) > P))[0]   # (N, ) Sub-carriers for waterfilling \n",
    "            \n",
    "    for idx in WF_idx:\n",
    "        c_min = 0\n",
    "        while np.sum(u[idx]*np.maximum(delta_pow_2d[idx]-c_init*u[idx],0))>P:\n",
    "            c_init *=2\n",
    "        c_max = c_init\n",
    "                                    \n",
    "        while (c_max - c_min)>c_init*10**-10:\n",
    "            c_mid = (c_min+c_max)/2\n",
    "            v_mid = np.maximum(delta_pow_2d[idx]-c_mid*u[idx], 0)\n",
    "            if np.sum(v_mid*u[idx])>P:\n",
    "                c_min = c_mid\n",
    "            else:\n",
    "                c_max = c_mid\n",
    "        v[idx] = v_mid\n",
    "                \n",
    "    P_alloc = (u*v).reshape(-1)   # (N*B, )\n",
    "\n",
    "    return P_alloc "
   ]
  },
  {
   "cell_type": "code",
   "execution_count": 11,
   "metadata": {
    "ExecuteTime": {
     "end_time": "2022-01-06T08:14:36.373605Z",
     "start_time": "2022-01-06T08:14:23.956471Z"
    },
    "scrolled": true
   },
   "outputs": [
    {
     "name": "stdout",
     "output_type": "stream",
     "text": [
      "avg_update_SNR: 1.541663\n",
      "[epoch: 1, CU] loss: 0.887  accuracy: 0.738\n",
      "[epoch: 1, device:  16] loss: 0.382  accuracy: 0.867\n"
     ]
    },
    {
     "ename": "KeyboardInterrupt",
     "evalue": "",
     "output_type": "error",
     "traceback": [
      "\u001b[1;31m---------------------------------------------------------------------------\u001b[0m",
      "\u001b[1;31mKeyboardInterrupt\u001b[0m                         Traceback (most recent call last)",
      "\u001b[1;32m<ipython-input-11-7ba3a27c60dc>\u001b[0m in \u001b[0;36m<module>\u001b[1;34m\u001b[0m\n\u001b[0;32m     47\u001b[0m \u001b[1;33m\u001b[0m\u001b[0m\n\u001b[0;32m     48\u001b[0m     \u001b[1;32mfor\u001b[0m \u001b[0mi\u001b[0m \u001b[1;32min\u001b[0m \u001b[0mrange\u001b[0m\u001b[1;33m(\u001b[0m\u001b[0mdev_num\u001b[0m\u001b[1;33m)\u001b[0m\u001b[1;33m:\u001b[0m   \u001b[1;31m# get local dataset of i-th device; data is a list of [inputs, labels]\u001b[0m\u001b[1;33m\u001b[0m\u001b[1;33m\u001b[0m\u001b[0m\n\u001b[1;32m---> 49\u001b[1;33m         \u001b[0minputs\u001b[0m\u001b[1;33m,\u001b[0m \u001b[0mlabels\u001b[0m \u001b[1;33m=\u001b[0m \u001b[0mx\u001b[0m\u001b[1;33m[\u001b[0m\u001b[0midx_localDB\u001b[0m\u001b[1;33m[\u001b[0m\u001b[0mi\u001b[0m\u001b[1;33m]\u001b[0m\u001b[1;33m]\u001b[0m\u001b[1;33m.\u001b[0m\u001b[0mto\u001b[0m\u001b[1;33m(\u001b[0m\u001b[0mdevice\u001b[0m\u001b[1;33m)\u001b[0m\u001b[1;33m,\u001b[0m \u001b[0mtorch\u001b[0m\u001b[1;33m.\u001b[0m\u001b[0mtensor\u001b[0m\u001b[1;33m(\u001b[0m\u001b[0my\u001b[0m\u001b[1;33m[\u001b[0m\u001b[0midx_localDB\u001b[0m\u001b[1;33m[\u001b[0m\u001b[0mi\u001b[0m\u001b[1;33m]\u001b[0m\u001b[1;33m]\u001b[0m\u001b[1;33m,\u001b[0m \u001b[0mdtype\u001b[0m\u001b[1;33m=\u001b[0m\u001b[0mtorch\u001b[0m\u001b[1;33m.\u001b[0m\u001b[0mlong\u001b[0m\u001b[1;33m)\u001b[0m\u001b[1;33m.\u001b[0m\u001b[0mto\u001b[0m\u001b[1;33m(\u001b[0m\u001b[0mdevice\u001b[0m\u001b[1;33m)\u001b[0m\u001b[1;33m\u001b[0m\u001b[1;33m\u001b[0m\u001b[0m\n\u001b[0m\u001b[0;32m     50\u001b[0m         \u001b[0mnet_local\u001b[0m\u001b[1;33m,\u001b[0m \u001b[0mrunning_loss_local\u001b[0m\u001b[1;33m,\u001b[0m \u001b[0macc_local\u001b[0m \u001b[1;33m=\u001b[0m \u001b[0mmodel_localupdate\u001b[0m\u001b[1;33m(\u001b[0m\u001b[0minputs\u001b[0m\u001b[1;33m,\u001b[0m \u001b[0mlabels\u001b[0m\u001b[1;33m,\u001b[0m \u001b[0mnet\u001b[0m\u001b[1;33m,\u001b[0m \u001b[0mE\u001b[0m\u001b[1;33m,\u001b[0m \u001b[0mbatch_local\u001b[0m\u001b[1;33m,\u001b[0m \u001b[0msamples_local\u001b[0m\u001b[1;33m[\u001b[0m\u001b[0mi\u001b[0m\u001b[1;33m]\u001b[0m\u001b[1;33m,\u001b[0m \u001b[0mlr\u001b[0m\u001b[1;33m)\u001b[0m\u001b[1;33m\u001b[0m\u001b[1;33m\u001b[0m\u001b[0m\n\u001b[0;32m     51\u001b[0m         \u001b[0mrunning_loss\u001b[0m \u001b[1;33m+=\u001b[0m \u001b[0mrunning_loss_local\u001b[0m\u001b[1;33m\u001b[0m\u001b[1;33m\u001b[0m\u001b[0m\n",
      "\u001b[1;31mKeyboardInterrupt\u001b[0m: "
     ]
    }
   ],
   "source": [
    "net_diff = Net()\n",
    "net_diff.to(device)   # Storing network update\n",
    "train_acc_history = np.zeros(epoch_max)\n",
    "update_rho_history = np.zeros(epoch_max)\n",
    "\n",
    "update_history = np.zeros((3, epoch_max))\n",
    "power_history = np.zeros((3, epoch_max))\n",
    "\n",
    "# Pre-Training in CU\n",
    "#inputs, labels = CU_x.to(device), torch.tensor(CU_y, dtype=torch.long).to(device)\n",
    "#net, _, _ = model_localupdate(inputs, labels, net, init_E, batch_local, samples_CU, lr)\n",
    "\n",
    "\n",
    "for epoch in range(epoch_max):  # loop over the dataset multiple times    \n",
    "    ##################### Wireless Channel ###########################\n",
    "    H_pow = pathloss.reshape(dev_num, 1)*np.random.exponential(1, (dev_num, B*N))    # Channel power gains, dev_num x BN\n",
    "    \n",
    "    ########## Update at the central unit #########\n",
    "    with torch.no_grad():   # Reset update\n",
    "        for param_diff in net_diff.parameters():\n",
    "            param_diff = torch.zeros_like(param_diff)\n",
    "    \n",
    "    inputs, labels = CU_x.to(device), torch.tensor(CU_y, dtype=torch.long).to(device)\n",
    "    net_CU, running_loss_CU, acc_CU = model_localupdate(inputs, labels, net, E, batch_local, samples_CU, lr)\n",
    "    \n",
    "    idx_s = 0\n",
    "    sum_update_pow = 0.0\n",
    "    with torch.no_grad():\n",
    "        for param_diff, param_org, param_CU in zip(net_diff.parameters(), net.parameters(), net_CU.parameters()):\n",
    "            param_diff = param_CU-param_org\n",
    "            param_org += param_diff*(samples_CU/samples_global)\n",
    "            sum_update_pow += torch.sum(param_diff*param_diff).item()\n",
    "            idx_s += param_org.numel()\n",
    "       \n",
    "    rho = sum_update_pow/D\n",
    "    print('avg_update_SNR: %f' % (rho/noise_pow))\n",
    "            \n",
    "    total = samples_CU*E\n",
    "    print('[epoch: %d, CU] loss: %.3f  accuracy: %.3f' % (epoch + 1, running_loss_CU, acc_CU/total))\n",
    "   \n",
    "    \n",
    "    ########## Update at distributed devices #########\n",
    "    running_loss = 0.0\n",
    "    acc_tmp = 0.0\n",
    "    total = 0\n",
    "    Y = np.zeros(B*N)    \n",
    "    \n",
    "    for i in range(dev_num):   # get local dataset of i-th device; data is a list of [inputs, labels]\n",
    "        inputs, labels = x[idx_localDB[i]].to(device), torch.tensor(y[idx_localDB[i]], dtype=torch.long).to(device)\n",
    "        net_local, running_loss_local, acc_local = model_localupdate(inputs, labels, net, E, batch_local, samples_local[i], lr)\n",
    "        running_loss += running_loss_local\n",
    "        acc_tmp += acc_local\n",
    "        \n",
    "        with torch.no_grad():   \n",
    "            update_stack = np.array([])\n",
    "            delta_bar = np.zeros(B*N)\n",
    "            for param_org, param_local in zip(net.parameters(), net_local.parameters()):\n",
    "                update_stack = np.concatenate((update_stack, (param_local-param_org).view(-1).to(\"cpu\").numpy()), 0)            \n",
    "            delta_bar[:D] = update_stack*1.0\n",
    "            delta_bar = delta_bar[permute_idx]\n",
    "            \n",
    "            P_alloc = power_allocation(gamma, noise_pow, P, N, B, delta_bar, H_pow[i], rho, samples_local[i], samples_global)\n",
    "            \n",
    "            if dev_dist[i]<=150:\n",
    "                update_history[0][epoch] += np.sum(delta_bar**2)\n",
    "                power_history[0][epoch] += np.sum(P_alloc)\n",
    "            elif dev_dist[i]>150 and dev_dist[i]<=300:\n",
    "                update_history[1][epoch] += np.sum(delta_bar**2)\n",
    "                power_history[1][epoch] += np.sum(P_alloc)                \n",
    "            elif dev_dist[i]>300:\n",
    "                update_history[2][epoch] += np.sum(delta_bar**2)\n",
    "                power_history[2][epoch] += np.sum(P_alloc)                \n",
    "                        \n",
    "            X = np.sign(delta_bar)*np.sqrt(P_alloc)\n",
    "            Y += np.sqrt(H_pow[i, :])*X            \n",
    "\n",
    "        # print statistics\n",
    "        total += E*samples_local[i]\n",
    "        num_proc = max(int(dev_num/10),1)\n",
    "        if i % num_proc == num_proc-1:\n",
    "            print('[epoch: %d, device: %3d] loss: %.3f  accuracy: %.3f' % (epoch + 1, i + 1, running_loss/num_proc, acc_tmp/total))\n",
    "            running_loss = 0.0\n",
    "            acc_tmp = 0.0\n",
    "            total = 0\n",
    "            \n",
    "    Y += np.sqrt(noise_pow)*np.random.randn(B*N)\n",
    "    tmp = np.sqrt(rho/gamma/noise_pow)*Y\n",
    "    tmp = tmp[permute_idx_inv]\n",
    "    delta_hat = torch.tensor(tmp).to(device)\n",
    "    idx_s = 0\n",
    "    with torch.no_grad():\n",
    "        for param_org in net.parameters():   # Update model at the main server\n",
    "            tmp_param = delta_hat[idx_s:idx_s+param_org.numel()]\n",
    "            param_org += tmp_param.view(param_org.size())\n",
    "            idx_s += param_org.numel()\n",
    "            \n",
    "    correct = 0\n",
    "    total = 0\n",
    "    with torch.no_grad():\n",
    "        for data in testloader:\n",
    "            images_tmp, labels = data\n",
    "            images = images_tmp.to(device)\n",
    "            outputs = net(images)\n",
    "            _, predicted = torch.max(outputs.data, 1)\n",
    "            total += labels.size(0)\n",
    "            correct += (predicted.cpu() == labels).sum().item()\n",
    "    \n",
    "    update_rho_history[epoch] = rho\n",
    "    train_acc_history[epoch] = correct / total\n",
    "    print('Accuracy for 10,000 test images: %.2f %%' % (100.0 * train_acc_history[epoch]))\n",
    "    if correct / total > 0.99: break\n",
    "    \n",
    "print('Finished Training')"
   ]
  },
  {
   "cell_type": "code",
   "execution_count": null,
   "metadata": {
    "ExecuteTime": {
     "end_time": "2022-01-06T08:14:36.377565Z",
     "start_time": "2022-01-06T08:14:17.023Z"
    },
    "scrolled": true
   },
   "outputs": [],
   "source": [
    "from datetime import date\n",
    "Date = '['+str(date.today())+']'\n",
    "PATH_SIM = '../shared/results/Simulation_Env/'+Date+'SimEnv_Orth_Acc'+str(correct/total)+'Dmax'+str(cell_radius)+'Dens%.4f'%(density)+'CU'+str(samples_CU)+'P'+str(P)   # save simulation environment\n",
    "PATH_NET = '../shared/results/Network/'+Date+'Net_Orth_Acc'+str(correct/total)+'Dmax'+str(cell_radius)+'Dens%.4f'%(density)+'CU'+str(samples_CU)+'P'+str(P)+'.pth'   # save neural network\n",
    "PATH_ACC = '../shared/results/Accuracy/'+Date+'Acc_Orth_Acc'+str(correct/total)+'Dmax'+str(cell_radius)+'Dens%.4f'%(density)+'CU'+str(samples_CU)+'P'+str(P)   # save accuracy history\n",
    "PATH_RHO = '../shared/results/RHO/'+Date+'RHO_Orth_Acc'+str(correct/total)+'Dmax'+str(cell_radius)+'Dens%.4f'%(density)+'CU'+str(samples_CU)+'P'+str(P)   # save SNR history\n",
    "\n",
    "np.save(PATH_ACC, train_acc_history)\n",
    "print(PATH_ACC+'.npy is saved')\n",
    "np.savez(PATH_SIM, lr=lr, batch_local=batch_local, E=E, epoch_max=epoch_max, D=D, noise_pow_dBm=noise_pow_dBm, P_dBm=P_dBm, gamma=gamma, B=B, N=N, cell_radius=cell_radius, density=density, dev_num=dev_num, pathloss_exponent=pathloss_exponent, num_classes=num_classes, samples_avg_local=samples_avg_local, samples_local=samples_local, samples_CU=samples_CU, regul_coeff=regul_coeff)\n",
    "print(PATH_SIM+'.npz is saved')\n",
    "np.save(PATH_RHO, update_rho_history)\n",
    "print(PATH_RHO+'.npy is saved')\n",
    "torch.save(net.state_dict(), PATH_NET)\n",
    "print(PATH_NET+'.pth is saved')"
   ]
  },
  {
   "cell_type": "code",
   "execution_count": null,
   "metadata": {
    "ExecuteTime": {
     "end_time": "2022-01-06T08:14:36.378593Z",
     "start_time": "2022-01-06T08:14:17.028Z"
    },
    "scrolled": true
   },
   "outputs": [],
   "source": [
    "train_acc_history = np.load(PATH_ACC+'.npy')\n",
    "plt.plot(np.arange(epoch_max), train_acc_history)\n",
    "plt.xlabel('Epoch')\n",
    "plt.ylabel('Test Accuracy')\n",
    "plt.show()\n",
    "\n",
    "update_rho_history = np.load(PATH_RHO+'.npy')\n",
    "plt.plot(np.arange(epoch_max), 10*np.log10(update_rho_history/noise_pow))\n",
    "plt.xlabel('Epoch')\n",
    "plt.ylabel('Update SNR [dB]')\n",
    "plt.show()"
   ]
  },
  {
   "cell_type": "code",
   "execution_count": null,
   "metadata": {
    "ExecuteTime": {
     "end_time": "2022-01-06T08:14:36.378593Z",
     "start_time": "2022-01-06T08:14:17.031Z"
    },
    "scrolled": true
   },
   "outputs": [],
   "source": [
    "net = Net()\n",
    "net.load_state_dict(torch.load(PATH_NET))\n",
    "outputs = net(images.cpu())"
   ]
  },
  {
   "cell_type": "code",
   "execution_count": null,
   "metadata": {
    "ExecuteTime": {
     "end_time": "2022-01-06T08:14:36.379561Z",
     "start_time": "2022-01-06T08:14:17.033Z"
    },
    "scrolled": true
   },
   "outputs": [],
   "source": [
    "correct = 0\n",
    "total = 0\n",
    "with torch.no_grad():\n",
    "    for data in testloader:\n",
    "        images, labels = data\n",
    "        outputs = net(images)\n",
    "        _, predicted = torch.max(outputs.data, 1)\n",
    "        total += labels.size(0)\n",
    "        correct += (predicted == labels).sum().item()\n",
    "\n",
    "print('Accuracy of the network on the 10000 test images: %.2f %%' % (100.0 * correct / total))"
   ]
  },
  {
   "cell_type": "code",
   "execution_count": null,
   "metadata": {
    "ExecuteTime": {
     "end_time": "2022-01-06T08:14:36.380558Z",
     "start_time": "2022-01-06T08:14:17.036Z"
    },
    "scrolled": true
   },
   "outputs": [],
   "source": [
    "class_correct = list(0. for i in range(10))\n",
    "class_total = list(0. for i in range(10))\n",
    "with torch.no_grad():\n",
    "    for data in testloader:\n",
    "        images, labels = data\n",
    "        outputs = net(images)\n",
    "        _, predicted = torch.max(outputs, 1)\n",
    "        c = (predicted == labels)\n",
    "        for i in range(labels.size(0)):\n",
    "            label = labels[i]\n",
    "            class_correct[label] += c[i].item()\n",
    "            class_total[label] += 1\n",
    "\n",
    "for i in range(10):\n",
    "    print('Accuracy of %d : %.2f %%' % (classes[i], 100 * class_correct[i] / class_total[i]))"
   ]
  },
  {
   "cell_type": "code",
   "execution_count": null,
   "metadata": {
    "ExecuteTime": {
     "end_time": "2022-01-06T08:14:36.381554Z",
     "start_time": "2022-01-06T08:14:17.041Z"
    },
    "scrolled": true
   },
   "outputs": [],
   "source": [
    "print('Number of total devices: ', dev_num)\n",
    "print('Distance of device %d: '%(dev_num-1), dev_dist[dev_num-1])\n",
    "print('Probability of the utilized sub-channels: ', np.sum(P_alloc>0)/D)\n",
    "print('Remaining powers of device %d N symbols : '%(dev_num-1), P-np.sum(P_alloc)/N)"
   ]
  },
  {
   "cell_type": "code",
   "execution_count": null,
   "metadata": {
    "ExecuteTime": {
     "end_time": "2022-01-06T08:14:36.382552Z",
     "start_time": "2022-01-06T08:14:17.044Z"
    },
    "scrolled": true
   },
   "outputs": [],
   "source": [
    "tmp = list(net_diff.parameters())\n",
    "\n",
    "params = np.array([])\n",
    "for i in range(len(tmp)):\n",
    "    params = np.append(params, tmp[i].cpu().detach().numpy().reshape(-1))\n",
    "    \n",
    "print(params.shape)\n",
    "\n",
    "max_param = np.max(params*params)\n",
    "min_param = np.min(params*params)\n",
    "bins = np.linspace(min_param, max_param, num=100)\n",
    "\n",
    "_ =plt.hist(params*params, bins=bins)\n",
    "\n",
    "tmp_idx = np.random.permutation(params.shape[0])\n",
    "samples_idx = tmp_idx[0:1024]\n",
    "samples = params[samples_idx]"
   ]
  },
  {
   "cell_type": "code",
   "execution_count": null,
   "metadata": {
    "ExecuteTime": {
     "end_time": "2022-01-06T08:14:36.383579Z",
     "start_time": "2022-01-06T08:14:17.047Z"
    },
    "scrolled": true
   },
   "outputs": [],
   "source": [
    "tmp_idx = np.random.permutation(params.shape[0])\n",
    "samples_idx = tmp_idx[0:1024]\n",
    "#samples_idx = np.arange(0,1024,1)\n",
    "samples = params[samples_idx]\n",
    "pows = samples*samples\n",
    "\n",
    "max_param = np.max(pows)\n",
    "min_param = np.min(pows)\n",
    "bins = np.linspace(min_param, max_param, num=100)\n",
    "\n",
    "count = plt.hist(pows, bins=bins)\n",
    "\n",
    "mean_pow = np.mean(pows)\n",
    "y=count[0][0]*np.exp(-bins/mean_pow)\n",
    "plt.plot(bins, y)"
   ]
  },
  {
   "cell_type": "code",
   "execution_count": null,
   "metadata": {
    "ExecuteTime": {
     "end_time": "2022-01-06T08:14:36.383579Z",
     "start_time": "2022-01-06T08:14:17.049Z"
    },
    "scrolled": true
   },
   "outputs": [],
   "source": [
    "samples = delta_bar[0:B]\n",
    "pows = samples*samples\n",
    "\n",
    "max_param = np.max(pows)\n",
    "min_param = np.min(pows)\n",
    "bins = np.linspace(min_param, max_param, num=100)\n",
    "\n",
    "count = plt.hist(pows, bins=bins, label='Histogram')\n",
    "\n",
    "mean_pow = np.mean(pows)\n",
    "y=count[0][0]*np.exp(-bins/mean_pow)\n",
    "plt.plot(bins, y, label='Exponential dist.')\n",
    "plt.title('Historgam of Update Values')\n",
    "plt.legend(loc='upper right')\n",
    "plt.show()"
   ]
  },
  {
   "cell_type": "markdown",
   "metadata": {},
   "source": [
    "## Update and Transmit Power Changes"
   ]
  },
  {
   "cell_type": "code",
   "execution_count": null,
   "metadata": {
    "ExecuteTime": {
     "end_time": "2022-01-06T08:14:36.384576Z",
     "start_time": "2022-01-06T08:14:17.051Z"
    }
   },
   "outputs": [],
   "source": [
    "num_inner_dev = np.sum(dev_dist<=150)\n",
    "num_outter_dev = np.sum(dev_dist>300)\n",
    "num_mid_dev = dev_num - num_inner_dev - num_outter_dev\n",
    "\n",
    "update_history[0] /= num_inner_dev\n",
    "update_history[1] /= num_mid_dev\n",
    "update_history[2] /= num_outter_dev\n",
    "power_history[0] /= num_inner_dev\n",
    "power_history[1] /= num_mid_dev\n",
    "power_history[2] /= num_outter_dev"
   ]
  },
  {
   "cell_type": "code",
   "execution_count": null,
   "metadata": {
    "ExecuteTime": {
     "end_time": "2022-01-06T08:14:36.385545Z",
     "start_time": "2022-01-06T08:14:17.054Z"
    }
   },
   "outputs": [],
   "source": [
    "plt.semilogy(np.arange(epoch_max)+1, update_history[2], label='Long-range UEs')\n",
    "plt.semilogy(np.arange(epoch_max)+1, update_history[1], label='Mid-range UEs')\n",
    "plt.semilogy(np.arange(epoch_max)+1, update_history[0], label='Short-range UEs')\n",
    "\n",
    "plt.legend(loc='upper right')\n",
    "plt.show()\n",
    "\n",
    "plt.plot(np.arange(epoch_max)+1, update_history[2], label='Long-range UEs')\n",
    "plt.plot(np.arange(epoch_max)+1, update_history[1], label='Mid-range UEs')\n",
    "plt.plot(np.arange(epoch_max)+1, update_history[0], label='Short-range UEs')\n",
    "\n",
    "plt.legend(loc='upper right')\n",
    "plt.show()"
   ]
  },
  {
   "cell_type": "code",
   "execution_count": null,
   "metadata": {
    "ExecuteTime": {
     "end_time": "2022-01-06T08:14:36.386541Z",
     "start_time": "2022-01-06T08:14:17.058Z"
    }
   },
   "outputs": [],
   "source": [
    "plt.plot(np.arange(epoch_max)+1, power_history[2]/N, label='Long-range UEs')\n",
    "plt.plot(np.arange(epoch_max)+1, power_history[1]/N, label='Mid-range UEs')\n",
    "plt.plot(np.arange(epoch_max)+1, power_history[0]/N, label='Short-range UEs')\n",
    "\n",
    "\n",
    "plt.legend(loc='lower right')\n",
    "plt.show()\n",
    "\n",
    "plt.semilogy(np.arange(epoch_max)+1, power_history[2]/N, label='Long-range UEs')\n",
    "plt.semilogy(np.arange(epoch_max)+1, power_history[1]/N, label='Mid-range UEs')\n",
    "plt.semilogy(np.arange(epoch_max)+1, power_history[0]/N, label='Short-range UEs')\n",
    "\n",
    "plt.legend(loc='lower right')\n",
    "plt.show()"
   ]
  },
  {
   "cell_type": "code",
   "execution_count": null,
   "metadata": {
    "ExecuteTime": {
     "end_time": "2022-01-06T08:14:36.387541Z",
     "start_time": "2022-01-06T08:14:17.061Z"
    }
   },
   "outputs": [],
   "source": [
    "dev_dist[45]"
   ]
  },
  {
   "cell_type": "code",
   "execution_count": null,
   "metadata": {
    "ExecuteTime": {
     "end_time": "2022-01-06T08:14:36.388538Z",
     "start_time": "2022-01-06T08:14:17.063Z"
    }
   },
   "outputs": [],
   "source": [
    "dev_dist[100]"
   ]
  },
  {
   "cell_type": "code",
   "execution_count": null,
   "metadata": {
    "ExecuteTime": {
     "end_time": "2022-01-06T08:14:36.389533Z",
     "start_time": "2022-01-06T08:14:17.066Z"
    }
   },
   "outputs": [],
   "source": [
    "dev_dist[12]"
   ]
  },
  {
   "cell_type": "code",
   "execution_count": null,
   "metadata": {},
   "outputs": [],
   "source": []
  },
  {
   "cell_type": "code",
   "execution_count": null,
   "metadata": {},
   "outputs": [],
   "source": []
  }
 ],
 "metadata": {
  "hide_input": false,
  "kernelspec": {
   "display_name": "Python 3",
   "language": "python",
   "name": "python3"
  },
  "language_info": {
   "codemirror_mode": {
    "name": "ipython",
    "version": 3
   },
   "file_extension": ".py",
   "mimetype": "text/x-python",
   "name": "python",
   "nbconvert_exporter": "python",
   "pygments_lexer": "ipython3",
   "version": "3.6.13"
  },
  "toc": {
   "base_numbering": 1,
   "nav_menu": {},
   "number_sections": false,
   "sideBar": true,
   "skip_h1_title": false,
   "title_cell": "Table of Contents",
   "title_sidebar": "Contents",
   "toc_cell": false,
   "toc_position": {},
   "toc_section_display": true,
   "toc_window_display": false
  },
  "varInspector": {
   "cols": {
    "lenName": 16,
    "lenType": 16,
    "lenVar": 40
   },
   "kernels_config": {
    "python": {
     "delete_cmd_postfix": "",
     "delete_cmd_prefix": "del ",
     "library": "var_list.py",
     "varRefreshCmd": "print(var_dic_list())"
    },
    "r": {
     "delete_cmd_postfix": ") ",
     "delete_cmd_prefix": "rm(",
     "library": "var_list.r",
     "varRefreshCmd": "cat(var_dic_list()) "
    }
   },
   "types_to_exclude": [
    "module",
    "function",
    "builtin_function_or_method",
    "instance",
    "_Feature"
   ],
   "window_display": false
  }
 },
 "nbformat": 4,
 "nbformat_minor": 2
}
